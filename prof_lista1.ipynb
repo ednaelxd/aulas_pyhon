{
 "cells": [
  {
   "cell_type": "markdown",
   "source": [
    "Questao 1:\r\n",
    "Crie um programa que possua 4 variáveis (anoNascimento, anoAtual, idade, mesesVividos). anoNascimento será inicializada com o ano do seu nascimento, anoAtual será inicializada com o ano atual e a idade será o cálculo da diferença entre as duas variáveis anoAtual e anoNascimento, e mesesVividos armazenará a quantidade de meses vividos."
   ],
   "metadata": {}
  },
  {
   "cell_type": "code",
   "execution_count": 1,
   "source": [
    "#Problema 1\r\n",
    "ano_nascimento = 1996\r\n",
    "ano_atual = 2021\r\n",
    "idade = ano_atual - ano_nascimento\r\n",
    "meses_vividos = idade*12\r\n",
    "\r\n",
    "print (\"Você possui\",idade,\"anos de idade e viveu\",meses_vividos,\"meses\")"
   ],
   "outputs": [
    {
     "output_type": "stream",
     "name": "stdout",
     "text": [
      "Você possui 25 anos de idade e viveu 300 meses\n"
     ]
    }
   ],
   "metadata": {}
  },
  {
   "cell_type": "markdown",
   "source": [
    "Questao 2:\r\n",
    "Faça um programa que considera que existem caminhões de vacina em Pernambuco que transportam 10283 vacinas em cada caminhão. Sabendo que há 2.493.219 que precisam ser vacinados, depois da viagem de quantos caminhões essa população estará vacinada?"
   ],
   "metadata": {}
  },
  {
   "cell_type": "code",
   "execution_count": 5,
   "source": [
    "# Problema 2\r\n",
    "carga_truck = 10283\r\n",
    "demanda_vac = 2493219\r\n",
    "\r\n",
    "if demanda_vac%carga_truck == 0:\r\n",
    "  n_viagens = demanda_vac%carga_truck\r\n",
    "  print (n_viagens)\r\n",
    "else:\r\n",
    "  n_viagens = (demanda_vac//carga_truck +1)\r\n",
    "  print(n_viagens)"
   ],
   "outputs": [
    {
     "output_type": "stream",
     "name": "stdout",
     "text": [
      "243\n"
     ]
    }
   ],
   "metadata": {}
  },
  {
   "cell_type": "markdown",
   "source": [
    "Questão 3:\r\n",
    "Peça ao usuário 3 valores Booleanos (b1, b2, b3) e imprima o resultado da expressão (b1 and b2) or b3"
   ],
   "metadata": {}
  },
  {
   "cell_type": "code",
   "execution_count": 3,
   "source": [
    "#vamolá\r\n",
    "b1=True\r\n",
    "b2=True\r\n",
    "b3=False\r\n",
    "\r\n",
    "a=(b1 and b2) or b3\r\n",
    "print(a)"
   ],
   "outputs": [
    {
     "output_type": "stream",
     "name": "stdout",
     "text": [
      "True\n"
     ]
    }
   ],
   "metadata": {}
  },
  {
   "cell_type": "markdown",
   "source": [
    "Questão 4:\r\n",
    "Escreva um programa que receba do usuário um número inteiro x de três dígitos (exemplo: 498) e imprima na tela um número contendo os dígitos invertidos de x (894). Use somente os operadores aritméticos vistos nessa aula."
   ],
   "metadata": {}
  },
  {
   "cell_type": "code",
   "execution_count": 4,
   "source": [
    "\r\n",
    "valor1 = int ( input('Digita aí um número (com até 3 casas) pra ser invertido: '))\r\n",
    "centena = valor1//100\r\n",
    "dezena = (valor1-centena*100)//10\r\n",
    "unidade = (valor1-centena*100-dezena*10)//1\r\n",
    "invertido = unidade*100+dezena*10+centena\r\n",
    "print('Valor digitado:',valor1)\r\n",
    "print('A inversão é:',invertido)"
   ],
   "outputs": [
    {
     "output_type": "error",
     "ename": "ValueError",
     "evalue": "invalid literal for int() with base 10: ''",
     "traceback": [
      "\u001b[1;31m---------------------------------------------------------------------------\u001b[0m",
      "\u001b[1;31mValueError\u001b[0m                                Traceback (most recent call last)",
      "\u001b[1;32m~\\AppData\\Local\\Temp/ipykernel_2128/4259642642.py\u001b[0m in \u001b[0;36m<module>\u001b[1;34m\u001b[0m\n\u001b[1;32m----> 1\u001b[1;33m \u001b[0mvalor1\u001b[0m \u001b[1;33m=\u001b[0m \u001b[0mint\u001b[0m \u001b[1;33m(\u001b[0m \u001b[0minput\u001b[0m\u001b[1;33m(\u001b[0m\u001b[1;34m'Digita aí um número (com até 3 casas) pra ser invertido: '\u001b[0m\u001b[1;33m)\u001b[0m\u001b[1;33m)\u001b[0m\u001b[1;33m\u001b[0m\u001b[1;33m\u001b[0m\u001b[0m\n\u001b[0m\u001b[0;32m      2\u001b[0m \u001b[0mcentena\u001b[0m \u001b[1;33m=\u001b[0m \u001b[0mvalor1\u001b[0m\u001b[1;33m//\u001b[0m\u001b[1;36m100\u001b[0m\u001b[1;33m\u001b[0m\u001b[1;33m\u001b[0m\u001b[0m\n\u001b[0;32m      3\u001b[0m \u001b[0mdezena\u001b[0m \u001b[1;33m=\u001b[0m \u001b[1;33m(\u001b[0m\u001b[0mvalor1\u001b[0m\u001b[1;33m-\u001b[0m\u001b[0mcentena\u001b[0m\u001b[1;33m*\u001b[0m\u001b[1;36m100\u001b[0m\u001b[1;33m)\u001b[0m\u001b[1;33m//\u001b[0m\u001b[1;36m10\u001b[0m\u001b[1;33m\u001b[0m\u001b[1;33m\u001b[0m\u001b[0m\n\u001b[0;32m      4\u001b[0m \u001b[0munidade\u001b[0m \u001b[1;33m=\u001b[0m \u001b[1;33m(\u001b[0m\u001b[0mvalor1\u001b[0m\u001b[1;33m-\u001b[0m\u001b[0mcentena\u001b[0m\u001b[1;33m*\u001b[0m\u001b[1;36m100\u001b[0m\u001b[1;33m-\u001b[0m\u001b[0mdezena\u001b[0m\u001b[1;33m*\u001b[0m\u001b[1;36m10\u001b[0m\u001b[1;33m)\u001b[0m\u001b[1;33m//\u001b[0m\u001b[1;36m1\u001b[0m\u001b[1;33m\u001b[0m\u001b[1;33m\u001b[0m\u001b[0m\n\u001b[0;32m      5\u001b[0m \u001b[0minvertido\u001b[0m \u001b[1;33m=\u001b[0m \u001b[0munidade\u001b[0m\u001b[1;33m*\u001b[0m\u001b[1;36m100\u001b[0m\u001b[1;33m+\u001b[0m\u001b[0mdezena\u001b[0m\u001b[1;33m*\u001b[0m\u001b[1;36m10\u001b[0m\u001b[1;33m+\u001b[0m\u001b[0mcentena\u001b[0m\u001b[1;33m\u001b[0m\u001b[1;33m\u001b[0m\u001b[0m\n",
      "\u001b[1;31mValueError\u001b[0m: invalid literal for int() with base 10: ''"
     ]
    }
   ],
   "metadata": {}
  },
  {
   "cell_type": "markdown",
   "source": [
    "Questão 1:\r\n",
    "Peça ao usuário um número inteiro como entrada e imprima se o número é PAR ou ÍMPAR."
   ],
   "metadata": {}
  },
  {
   "cell_type": "code",
   "execution_count": null,
   "source": [
    "#COD1\r\n",
    "num1 = int (input (\"Digite um número, por favor, meu bom: \"))\r\n",
    "if (num1%2 == 0):\r\n",
    "  print (\"Talvez você não soubesse, mas\", num1, \"é par\")\r\n",
    "elif (num1%2!=0):\r\n",
    "  print (\"Oxe,\",num1,\"é ímpar, ó\")"
   ],
   "outputs": [
    {
     "output_type": "stream",
     "name": "stdout",
     "text": [
      "Oxe, 5 é ímpar, ó\n"
     ]
    }
   ],
   "metadata": {}
  },
  {
   "cell_type": "markdown",
   "source": [
    "Questão 2:\r\n",
    "Escreva um programa que peça a data atual (dia, mês e ano como números inteiros) e peça a data de nascimento do usuário (dia, mês e ano como números inteiros). O programa deve imprimir a idade do usuário."
   ],
   "metadata": {}
  },
  {
   "cell_type": "code",
   "execution_count": null,
   "source": [
    "#COD2\r\n",
    "print (\"Simbora descobrir a tua idade?\")\r\n",
    "print (\"Mas aqui o negócio é diferente, vou dizer até os dias, visse?\")\r\n",
    "dia_hj = int(input(\"Digite que dia é hoje: \"))\r\n",
    "mes_hj = int(input(\"Qual o mês atual? \"))\r\n",
    "ano_hj = int(input(\"Em qual ano estamos? \"))\r\n",
    "\r\n",
    "dia_nv = int(input(\"E tu, é de que dia? \"))\r\n",
    "mes_nv = int(input(\"De qua mês? \"))\r\n",
    "ano_nv = int(input(\"E o ano, diz aí!? \"))\r\n",
    "\r\n",
    "print('Data de hoje, digitada:',dia_hj,'/',mes_hj,'/',ano_hj)\r\n",
    "print('Data de hoje, digitada:',dia_nv,'/',mes_nv,'/',ano_nv)\r\n",
    "\r\n",
    "if (mes_hj==mes_nv) and (dia_hj==dia_nv) and (ano_hj==ano_nv):\r\n",
    "  print (\"Oxe, nascesse hoje foi?\")\r\n",
    "elif (mes_hj>mes_nv) and (ano_hj>ano_nv):\r\n",
    "  anos = ano_hj - ano_nv\r\n",
    "  meses=abs(mes_hj-mes_nv)\r\n",
    "  print (\"Tu tens\",anos,\"anos e\",meses,'meses')\r\n",
    "elif (mes_hj<mes_nv) and (ano_hj>ano_nv):\r\n",
    "  anos = ano_hj - ano_nv - 1\r\n",
    "  meses = 12 - (mes_nv-mes_hj)\r\n",
    "  print(\"Você tem\", anos,\"anos e\", meses, \"meses\")\r\n",
    "elif (mes_hj==mes_nv) and (dia_hj>dia_nv) and (ano_hj>=ano_nv):\r\n",
    "  anos = ano_hj - ano_nv - 1\r\n",
    "  meses = 11\r\n",
    "  dias = 30 - (dia_hj-dia_nv)\r\n",
    "  print(\"Você tem\", anos,\"anos e\", meses, \"meses e\", dias, \"dias\")\r\n",
    "else:\r\n",
    "  print (\"Deu zebra\")  "
   ],
   "outputs": [
    {
     "output_type": "stream",
     "name": "stdout",
     "text": [
      "Simbora descobrir a tua idade?\n",
      "Mas aqui o negócio é diferente, vou dizer até os dias, visse?\n",
      "Data de hoje, digitada: 9 / 9 / 2021\n",
      "Data de hoje, digitada: 17 / 5 / 1996\n",
      "Tu tens 25 anos e 4 meses\n"
     ]
    }
   ],
   "metadata": {}
  },
  {
   "cell_type": "markdown",
   "source": [
    "Questão 3:\r\n",
    "Escreva um programa que verifique se um ponto está dentro de um círculo. Você deve receber dois inteiros (a,b) e um inteiro r que são a posição do centro da circunferência e o valor de seu raio respectivamente. Logo em seguida, você irá pedir o valor do ponto (x,y) que deve ser checado se está dentro ou fora da circunferência. Considere que se o ponto estiver exatamente em cima do bordo da circunferência ele é considerado dentro da circunferência."
   ],
   "metadata": {}
  },
  {
   "cell_type": "code",
   "execution_count": null,
   "source": [
    "xc = float ( input('Digite a coordenada x do centro da circunferência: '))\r\n",
    "yc = float ( input('Digite a coordenada y do centro da circunferência: '))\r\n",
    "raio = float ( input('Qual o tamanho do raio da circunferência:? '))\r\n",
    "\r\n",
    "xp = float ( input('Digite a coordenada x ponto: '))\r\n",
    "yp = float ( input('Digite a coordenada y ponto: '))\r\n",
    "\r\n",
    "print('(',xc,',',yc,',',raio,')','dados da circunferencia')\r\n",
    "print('(',xp,',',yp,')',\"ponto testado\")\r\n",
    "\r\n",
    "if (xp<=(xc+raio) and xp>=(xc-raio)) and (yp<=(yc+raio) and yp>=(yc-raio)) :\r\n",
    "    if ( abs(xp-xc)==raio and abs(yp-yc)==raio ) :\r\n",
    "        print('O ponto (',xp,',',yp,')',\"está na borda do círculo\")\r\n",
    "    print('O ponto (',xp,',',yp,')',\"pertence ao círculo\")\r\n",
    "elif (xp>(xc+raio) or xp<(xc-raio)) or (yp>(yc+raio) or yp<(yc-raio)) :\r\n",
    "    print('O ponto (',xp,',',yp,')',\"não pertence ao círculo\")\r\n",
    "else:\r\n",
    "    print (\"Deu, zebra!\")\r\n"
   ],
   "outputs": [
    {
     "output_type": "stream",
     "name": "stdout",
     "text": [
      "( 2.0 , 2.0 , 1.0 ) dados da circunferencia\n",
      "( 3.1 , 2.0 ) ponto testado\n",
      "O ponto ( 3.1 , 2.0 ) não pertence ao círculo\n"
     ]
    }
   ],
   "metadata": {}
  },
  {
   "cell_type": "markdown",
   "source": [
    "Questão 4:\r\n",
    "Tendo como dados de entrada a altura (float) e o sexo (M ou F) de uma pessoa, construa um algoritmo que calcule seu peso esperado médio, utilizando as seguintes fórmulas:\r\n",
    "\r\n",
    "● para homens: (72.7 * h) – 58;\r\n",
    "\r\n",
    "● para mulheres: (62.1 * h) – 44.7."
   ],
   "metadata": {}
  },
  {
   "cell_type": "code",
   "execution_count": null,
   "source": [
    "nome = input (\"diga o seu nome ai boy: \")\r\n",
    "sexo = input ('tu é maxo (M) ou fêmi (F)? ')\r\n",
    "altura = float (input (\"tu é tamburete de forró? Mede quanto? \"))\r\n",
    "\r\n",
    "if (sexo == 'M'):\r\n",
    "    peso = 72.7*altura-58\r\n",
    "    print (\"Tu pesa marromeno\", peso, \"kg\")\r\n",
    "elif (sexo == 'F'):\r\n",
    "    peso = 62.1*altura-44.7\r\n",
    "    print (\"Tu pesa marromeno\", peso, \"kg\")"
   ],
   "outputs": [
    {
     "output_type": "stream",
     "name": "stdout",
     "text": [
      "Tu pesa marromeno 65.59 kilinhos\n"
     ]
    }
   ],
   "metadata": {}
  },
  {
   "cell_type": "markdown",
   "source": [
    "Questão 5:\r\n",
    "O IMC – Indice de Massa Corporal é um critério da Organização Mundial de Saúde para dar umaindicação sobre a condição de peso de uma pessoa adulta. A fórmula é IMC =  peso/altura2 . Elabore um algoritmo que leia o peso e a altura de um adulto e mostre sua condição de acordo com a tabela abaixo.\r\n",
    "\r\n",
    "IMC em adultos: Condição\r\n",
    "\r\n",
    "Abaixo de 18,5: Abaixo do peso\r\n",
    "\r\n",
    "Entre 18,5 e 25: Peso normal\r\n",
    "\r\n",
    "Entre 25 e 30: Acima do peso\r\n",
    "\r\n",
    "Acima de 30: obeso"
   ],
   "metadata": {}
  },
  {
   "cell_type": "code",
   "execution_count": null,
   "source": [
    "#Vou te julgar sem te conhecer com esse código\r\n",
    "\r\n",
    "peso = float (input('diz teu peso ai!! Bora, ligero! '))\r\n",
    "altura = float (input ('tu mede quanto, boy? '))\r\n",
    "\r\n",
    "IMC = peso/(altura**2)\r\n",
    "\r\n",
    "if (IMC <= 18.5):\r\n",
    "    print ('Tai passando fome, mizeravi?')\r\n",
    "elif (IMC>18.5 and IMC<25):\r\n",
    "    print ('Quer dizer que tu é bodybuild? Comedor de Whey')\r\n",
    "elif (IMC>=25 and IMC<30):\r\n",
    "    print ('Tá ficando balofo, te liga, a pressão')\r\n",
    "else:\r\n",
    "    print ('Bora almoçar, gordo?','/n', 'Vamos, deixa só eu terminar de almoçar')"
   ],
   "outputs": [
    {
     "output_type": "stream",
     "name": "stdout",
     "text": [
      "Tai passando fome, mizeravi?\n"
     ]
    }
   ],
   "metadata": {}
  },
  {
   "cell_type": "code",
   "execution_count": null,
   "source": [],
   "outputs": [],
   "metadata": {}
  }
 ],
 "metadata": {
  "language_info": {
   "name": "python",
   "version": "3.9.7",
   "mimetype": "text/x-python",
   "codemirror_mode": {
    "name": "ipython",
    "version": 3
   },
   "pygments_lexer": "ipython3",
   "nbconvert_exporter": "python",
   "file_extension": ".py"
  },
  "kernelspec": {
   "name": "python3",
   "display_name": "Python 3.9.7 64-bit"
  },
  "interpreter": {
   "hash": "0721bd1a4770cf2bdc32816084f1a2b41fcbc3dc44910312d16644dc40941dad"
  }
 },
 "nbformat": 4,
 "nbformat_minor": 5
}