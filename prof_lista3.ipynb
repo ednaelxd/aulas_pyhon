{
 "cells": [
  {
   "cell_type": "markdown",
   "source": [
    "Questão 1:\r\n",
    "Faça um programa que leia 10 números reais e mostre-os na ordem inversa."
   ],
   "metadata": {}
  },
  {
   "cell_type": "code",
   "execution_count": 1,
   "source": [
    "i=num_r=0\r\n",
    "lista_reais=[]\r\n",
    "while i<=3:\r\n",
    "    num_r = float (input('Digite um número, por obséquio: '))\r\n",
    "    lista_reais.append(num_r)\r\n",
    "    i+=1\r\n",
    "lista_reais.reverse()\r\n",
    "print(lista_reais)\r\n",
    "#\r\n",
    "print('\\n\\n')\r\n",
    "#\r\n",
    "lista_reais2 = []\r\n",
    "for i in range(0,3):\r\n",
    "    lista_reais2.append(float(input(f'Digite o inteiro {i+1}:'))) \r\n",
    "lista_reais2.reverse()\r\n",
    "print(lista_reais2)\r\n"
   ],
   "outputs": [
    {
     "output_type": "stream",
     "name": "stdout",
     "text": [
      "[4.0, 3.0, 2.0, 1.0]\n",
      "\n",
      "\n",
      "\n",
      "[3.0, 2.0, 1.0]\n"
     ]
    }
   ],
   "metadata": {}
  },
  {
   "cell_type": "markdown",
   "source": [
    "Questão 2:\r\n",
    "Crie um programa que armazena vários números inteiros. A leitura deve parar até que o usuário dê como entrada um valor negativo. Em seguida, peça ao usuário um outro número  x . Deve-se imprimir todos os números lidos menores que  x ."
   ],
   "metadata": {}
  },
  {
   "cell_type": "code",
   "execution_count": 7,
   "source": [
    "lista_num = list()\r\n",
    "cont = 0\r\n",
    "freio = True\r\n",
    "while freio:\r\n",
    "    lista_num.append(int(input(f'Digite o {cont+1}º número inteiro: ')))\r\n",
    "    if (lista_num[cont]<0):\r\n",
    "        freio = False\r\n",
    "    cont+=1\r\n",
    "parametro = int (input(\"Digite um número inteiro para teste: \"))\r\n",
    "for num in range(cont-1):\r\n",
    "    if(lista_num[num]<parametro):\r\n",
    "        print(lista_num[num])\r\n"
   ],
   "outputs": [
    {
     "output_type": "stream",
     "name": "stdout",
     "text": [
      "1\n",
      "2\n",
      "3\n",
      "4\n",
      "5\n"
     ]
    }
   ],
   "metadata": {}
  },
  {
   "cell_type": "markdown",
   "source": [
    "Questão 3:\r\n",
    "Faça um programa que leia um vetor de 5 números inteiros, mostre a soma e a multiplicação desses números."
   ],
   "metadata": {}
  },
  {
   "cell_type": "code",
   "execution_count": 27,
   "source": [
    "lista_num=[]\r\n",
    "soma = cont = 0\r\n",
    "produto = 1\r\n",
    "while cont<5:\r\n",
    "    lista_num.append(int(input(f'Digite o {cont+1}º número inteiro: ')))\r\n",
    "    soma += lista_num[cont]\r\n",
    "    if cont==0:\r\n",
    "        produto = lista_num[cont]\r\n",
    "    else:\r\n",
    "        produto = produto * lista_num[cont]\r\n",
    "    cont+=1\r\n",
    "print (produto, soma)"
   ],
   "outputs": [
    {
     "output_type": "stream",
     "name": "stdout",
     "text": [
      "120 15\n"
     ]
    }
   ],
   "metadata": {}
  },
  {
   "cell_type": "markdown",
   "source": [
    "Questão 4:\r\n",
    "Faça um programa que leia dois vetores com 10 elementos cada. Gere um terceiro vetor de 20 elementos, cujos valores deverão ser compostos pelos elementos intercalados dos dois outros vetores."
   ],
   "metadata": {}
  },
  {
   "cell_type": "code",
   "execution_count": 9,
   "source": [
    "def junta_vetor(vetor_1,vetor_2):\r\n",
    "    vetor_3=[]\r\n",
    "    tam_vetor1 = len(vetor_1)\r\n",
    "    tam_vetor2 = len(vetor_2)\r\n",
    "    cont=0\r\n",
    "    if tam_vetor1 != tam_vetor2:\r\n",
    "        return ImportError\r\n",
    "    while cont<tam_vetor1:\r\n",
    "        vetor_3.append(vetor_1[cont])\r\n",
    "        vetor_3.append(vetor_2[cont])\r\n",
    "        cont+=1 \r\n",
    "    return(vetor_3)"
   ],
   "outputs": [],
   "metadata": {}
  },
  {
   "cell_type": "code",
   "execution_count": 10,
   "source": [
    "x=[1,2,3,4,5,6,7,8,9,10]\r\n",
    "y=[1,2,3,4,5,6,7,8,9,10]\r\n",
    "junta_vetor(x,y)"
   ],
   "outputs": [
    {
     "output_type": "execute_result",
     "data": {
      "text/plain": [
       "[1, 1, 2, 2, 3, 3, 4, 4, 5, 5, 6, 6, 7, 7, 8, 8, 9, 9, 10, 10]"
      ]
     },
     "metadata": {},
     "execution_count": 10
    }
   ],
   "metadata": {}
  },
  {
   "cell_type": "markdown",
   "source": [
    "Questão 5:\r\n",
    "Faça um programa que receba a temperatura média de cada mês do ano e armazene-as em uma lista. Após isto, calcule a média anual das temperaturas e mostre todas as temperaturas acima da média anual, e em que mês elas ocorreram (mostrar o mês por extenso: 1 – Janeiro, 2 – Fevereiro, . . . )."
   ],
   "metadata": {}
  },
  {
   "cell_type": "code",
   "execution_count": 1,
   "source": [
    "soma_temps = cont_mes = 0\r\n",
    "meses = [[\"Janeiro\",26],\r\n",
    "          [\"Fevereiro\",30],\r\n",
    "          [\"Março\",29.1],\r\n",
    "          [\"Abril\",28.2],\r\n",
    "          [\"Maio\", 24.5],\r\n",
    "          [\"Junho\",24.8],\r\n",
    "          [\"Julho\",25.2],\r\n",
    "          [\"Agosto\",25.5],\r\n",
    "          [\"Setembro\",26.0],\r\n",
    "          [\"Outubro\",29.1],\r\n",
    "          [\"Novembro\",28.7],\r\n",
    "          [\"Dezembro\",30.1]]\r\n",
    "#Rotina para cálculo das médias\r\n",
    "for cont in range(0,11):\r\n",
    "   soma_temps += meses[cont][1]\r\n",
    "temp_med = soma_temps/12\r\n",
    "#Fim do cálculo das médias\r\n",
    "#Corpo da resolução do problema\r\n",
    "while cont_mes<12:\r\n",
    "    if meses[cont_mes][1] > temp_med:\r\n",
    "        print(f\"{cont_mes+1} - {meses[cont_mes][0]} marcando {meses[cont_mes][1]}°\")\r\n",
    "    cont_mes+=1\r\n"
   ],
   "outputs": [
    {
     "output_type": "execute_result",
     "data": {
      "text/plain": [
       "'for cont in range(0,11):\\n   soma_temps += meses[cont][1]\\ntemp_med = soma_temps/12\\n#Fim do cálculo das médias\\n#Corpo da resolução do problema\\nwhile cont_mes<12:\\n    if meses[cont_mes][1] > temp_med:\\n        print(f\"{cont_mes+1} - {meses[cont_mes][0]} marcando {meses[cont_mes][1]}°\")\\n    cont_mes+=1'"
      ]
     },
     "metadata": {},
     "execution_count": 1
    }
   ],
   "metadata": {}
  },
  {
   "cell_type": "code",
   "execution_count": 6,
   "source": [
    "meses"
   ],
   "outputs": [
    {
     "output_type": "execute_result",
     "data": {
      "text/plain": [
       "[['Janeiro', 26],\n",
       " ['Fevereiro', 30],\n",
       " ['Março', 29.1],\n",
       " ['Abril', 28.2],\n",
       " ['Maio', 24.5],\n",
       " ['Junho', 24.8],\n",
       " ['Julho', 25.2],\n",
       " ['Agosto', 25.5],\n",
       " ['Setembro', 26.0],\n",
       " ['Outubro', 29.1],\n",
       " ['Novembro', 28.7]]"
      ]
     },
     "metadata": {},
     "execution_count": 6
    }
   ],
   "metadata": {}
  },
  {
   "cell_type": "markdown",
   "source": [
    "Questão 6:\r\n",
    "Crie um programa que lê uma sequência de números positivos do teclado, armazenando-os em uma lista. Quando o usuário digitar um número negativo, seu programa deve parar de ler os números do teclado e calcular a média e variância de todos os números armazenados e imprimir esse valor."
   ],
   "metadata": {}
  },
  {
   "cell_type": "code",
   "execution_count": 18,
   "source": [
    "check=True\r\n",
    "lista_seq=[]\r\n",
    "contador=soma_num=somatorio_var=0\r\n",
    "while check:\r\n",
    "    lista_seq.append(float(input(f'Digite o {contador+1}º número')))\r\n",
    "    if lista_seq[contador]<0:\r\n",
    "        lista_seq.pop()\r\n",
    "        check=False\r\n",
    "    elif(lista_seq[contador]>0):\r\n",
    "        soma_num += lista_seq[contador]\r\n",
    "        contador+=1\r\n",
    "media=soma_num/(contador)\r\n",
    "for nums in range(0,contador):\r\n",
    "    somatorio_var+=((lista_seq[nums]-media)**2)\r\n",
    "varianca = (1/contador)*somatorio_var\r\n",
    "print(media,varianca)\r\n"
   ],
   "outputs": [
    {
     "output_type": "stream",
     "name": "stdout",
     "text": [
      "1.0 0.0\n"
     ]
    }
   ],
   "metadata": {}
  },
  {
   "cell_type": "markdown",
   "source": [
    "Questão 7:\r\n",
    "Em uma competição de salto em distância cada atleta tem direito a cinco saltos. O resultado do atleta será determinado pela média dos cinco valores restantes. Você deve fazer um programa que receba o nome e as cinco distâncias alcançadas pelo atleta em seus saltos e depois informe o nome, os saltos e a média dos saltos. O programa deve ser encerrado quando não for informado o nome do atleta. A saída do programa deve ser conforme o exemplo abaixo:\r\n",
    "\r\n",
    "Atleta: Rodrigo Curvêllo\r\n",
    "\r\n",
    "Primeiro Salto: 6.5 m\r\n",
    "\r\n",
    "Segundo Salto: 6.1 m\r\n",
    "\r\n",
    "Terceiro Salto: 6.2 m\r\n",
    "\r\n",
    "Quarto Salto: 5.4 m\r\n",
    "\r\n",
    "Quinto Salto: 5.3 m\r\n",
    "\r\n",
    ". . .\r\n",
    "\r\n",
    "Resultado final:\r\n",
    "\r\n",
    "Atleta: Rodrigo Curvêllo\r\n",
    "\r\n",
    "Saltos: 6.5 - 6.1 - 6.2 - 5.4 - 5.3\r\n",
    "\r\n",
    "Média dos saltos: 5.9 m"
   ],
   "metadata": {}
  },
  {
   "cell_type": "code",
   "execution_count": 5,
   "source": [
    "print(\"Formulário de informações dos atletas\")\r\n",
    "checkagem = True\r\n",
    "dados_atletas=medias_saltos=[]\r\n",
    "count=mediass=0\r\n",
    "while checkagem:\r\n",
    "    #print('Insira os dados do Atleta começando pelo nome e listando seus pulos')\r\n",
    "    dados_atletas.append([input(),float(input()),float(input()),float(input()),float(input()),float(input())]) \r\n",
    "    if(dados_atletas[count][0]==''):\r\n",
    "        checkagem=False\r\n",
    "    elif(dados_atletas[count][0]!=''):\r\n",
    "        count+=1\r\n",
    "    if cont%6:\r\n"
   ],
   "outputs": [
    {
     "output_type": "stream",
     "name": "stdout",
     "text": [
      "Formulário de informações dos atletas\n",
      "Insira os dados do Atleta começando pelo nome e listando seus pulos\n"
     ]
    }
   ],
   "metadata": {}
  },
  {
   "cell_type": "code",
   "execution_count": 25,
   "source": [],
   "outputs": [],
   "metadata": {}
  },
  {
   "cell_type": "code",
   "execution_count": 26,
   "source": [
    "dados_atletas"
   ],
   "outputs": [
    {
     "output_type": "execute_result",
     "data": {
      "text/plain": [
       "[['EDNAEL', '25'], ['EDnael', 25.0], ['ednael', 25.0, 30.0]]"
      ]
     },
     "metadata": {},
     "execution_count": 26
    }
   ],
   "metadata": {}
  },
  {
   "cell_type": "markdown",
   "source": [
    "Questão 8:\r\n",
    "Crie um programa que lê um inteiro N do teclado, calcula todos os números primos entre 1 e N e os guarda em uma lista. Ao final da execução, o programa apresenta todos, separados por vírgulas (mas sem vírgula depois do último!)"
   ],
   "metadata": {}
  }
 ],
 "metadata": {
  "orig_nbformat": 4,
  "language_info": {
   "name": "python",
   "version": "3.9.7",
   "mimetype": "text/x-python",
   "codemirror_mode": {
    "name": "ipython",
    "version": 3
   },
   "pygments_lexer": "ipython3",
   "nbconvert_exporter": "python",
   "file_extension": ".py"
  },
  "kernelspec": {
   "name": "python3",
   "display_name": "Python 3.9.7 64-bit"
  },
  "interpreter": {
   "hash": "0721bd1a4770cf2bdc32816084f1a2b41fcbc3dc44910312d16644dc40941dad"
  }
 },
 "nbformat": 4,
 "nbformat_minor": 2
}