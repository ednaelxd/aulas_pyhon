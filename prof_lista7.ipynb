{
 "cells": [
  {
   "cell_type": "markdown",
   "source": [
    "Questão 1:\r\n",
    "Crie uma função que recebe uma string como parâmetro que é um nome de arquivo válido. A função deve imprimir o conteúdo deste arquivo. Use o arquivo LAB7Questao1.txt para testar seu código."
   ],
   "metadata": {}
  },
  {
   "cell_type": "markdown",
   "source": [
    "Questão 2:\r\n",
    "Crie uma função que recebe uma lista de strings e um nome de um arquivo. A função deve escrever cada string da lista em uma linha do arquivo. Lembre-se de fechar o arquivo."
   ],
   "metadata": {}
  },
  {
   "cell_type": "markdown",
   "source": [
    "Questão 3:\r\n",
    "Crie uma função que recebe uma lista de strings e um nome de um arquivo. A função deve escrever cada string da lista em uma linha do arquivo. Lembre-se de fechar o arquivo."
   ],
   "metadata": {}
  },
  {
   "cell_type": "markdown",
   "source": [
    "Questão 4:\r\n",
    "Crie uma função retorna_lista_strings que receba uma string como parâmetro e retorne uma lista de palavras dessa string (se quiser facilitar sua vida de programador, procure sobre a função split de Python).\r\n",
    "\r\n",
    "Crie uma função que receba como parâmetro um nome de arquivo e retorne uma lista das palavras desse arquivo. Considere que esse arquivo pode ter várias linhas. Use o arquivo LAB7Questao4Arquivo1.txt para testar seu programa.\r\n",
    "\r\n",
    "ATENÇÃO: O arquivo está codificado em Latin-1. Mude a codificação durante a abertura do arquivo (parâmetro encoding) para \"latin-1\""
   ],
   "metadata": {}
  },
  {
   "cell_type": "markdown",
   "source": [
    "Questão 5:\r\n",
    "Crie uma função que acesse o arquivo LAB7Questao5Arquivo1.txt e verifique quais os números existentes nesse arquivo são PARES. Você deve criar um arquivo LAB7Questao5Resultado1.txt e escrever os números que foram identificados como PARES.\r\n",
    "\r\n",
    "Faça o mesmo para o arquivo LAB7Questao5Arquivo2.txt salvando o resultado em LAB7Questao5Resultado2.txt. Para essa questão, considere criar e utilizar uma função que verifique se um dado número passado como parâmetro é PAR."
   ],
   "metadata": {}
  },
  {
   "cell_type": "markdown",
   "source": [
    "Questão 6:\r\n",
    "Crie um programa que lê uma lista de convidados que está em um arquivo chamado lista_convidados.txt. Neste arquivo é armazenado o nome e cidade do convidado. Seu programa deve ter a opção de perguntar se o usuário quer checar alguém na lista de convidados, ou se quer imprimir todos os convidados para uma dada cidade (fornecida pelo usuário)."
   ],
   "metadata": {}
  },
  {
   "cell_type": "markdown",
   "source": [
    "Questão 8:\r\n",
    "A ACME Inc., uma empresa de 500 funcionários, está tendo problemas de espaço em disco no seu servidor de arquivos. Para tentar resolver este problema, o Administrador de Rede precisa saber qual o espaço ocupado pelos usuários, e identificar os usuários com maior espaço ocupado. Através de um programa, baixado da Internet, ele conseguiu gerar o seguinte arquivo, chamado \"usuarios.txt\":\r\n",
    "\r\n",
    "alexandre 456123789\r\n",
    "\r\n",
    "anderson 1245698456\r\n",
    "\r\n",
    "antonio 123456456\r\n",
    "\r\n",
    "carlos 91257581\r\n",
    "\r\n",
    "cesar 987458\r\n",
    "\r\n",
    "rosemary 789456125\r\n",
    "\r\n",
    "A partir deste arquivo, você deve criar um programa que gere um relatório, chamado \"relatório.txt\", no seguinte formato:\r\n",
    "\r\n",
    "------------------------------\r\n",
    "\r\n",
    "ACME Inc. Uso do espaço em disco pelos usuários\r\n",
    "\r\n",
    "------------------------------\r\n",
    "\r\n",
    "Nr. | Usuário Espaço utilizado % do uso\r\n",
    "\r\n",
    "1 | alexandre | 434,99 MB | 16,85%\r\n",
    "\r\n",
    "2 | anderson | 1187,99 MB | 46,02%\r\n",
    "\r\n",
    "3 | antonio | 117,73 MB | 4,56%\r\n",
    "\r\n",
    "4 | carlos | 87,03 MB | 3,37%\r\n",
    "\r\n",
    "5 | cesar | 0,94 MB | 0,04%\r\n",
    "\r\n",
    "6 | rosemary | 752,88 MB | 29,16%\r\n",
    "\r\n",
    "Espaço total ocupado: 2581,57 MB\r\n",
    "\r\n",
    "Espaço médio ocupado: 430,26 MB\r\n",
    "\r\n",
    "O arquivo de entrada deve ser lido uma única vez, e os dados armazenados em memória, caso sejam necessários,\r\n",
    " de forma a agilizar a execução do programa. A conversão da espaço ocupado em disco, de bytes para megabytes deverá ser feita através de uma função separada, que será chamada pelo programa principal. O cálculo do percentual de uso também deverá ser feito através de uma função, que será chamada pelo programa principal.\r\n",
    "1MB=B/(1024^2)"
   ],
   "metadata": {}
  },
  {
   "cell_type": "markdown",
   "source": [
    "Questão 7:\r\n",
    "Crie um programa que cadastra o nome e telefone de várias pessoas. Esse programa deve ter as seguintes funções:\r\n",
    "\r\n",
    "criaContato(listaDeContato): a função criaContato recebe uma lista de contatos e adiciona nessa lista\r\n",
    " uma lista contendo um novo contato. Cada contato possui nome e telefone.\r\n",
    "\r\n",
    "buscaContatoPorNome(listaDeContato, nome): essa função busca o contato que possui o nome\r\n",
    " fornecido como parâmetro na lista fornecida também como parâmetro. Lembrando que cada\r\n",
    "  contato é uma lista que possui nome, telefone. A função retorna os dados do contato\r\n",
    "\r\n",
    "removeContato(listaDeContato, telefone): essa função remove da listaDeContato o contato que possui\r\n",
    " o telefone fornecido como parâmetro.\r\n",
    "\r\n",
    "salvaArquivo(listaDeContato, nomeArquivo): essa função salva no arquivo a lista de contatos em\r\n",
    " um arquivo de nome nomeArquivo.\r\n",
    "\r\n",
    "lerArquivo(listaDeContato, nomeArquivo): essa função lê do arquivo nomeArquivo a lista de contatos existente lá.\r\n",
    "\r\n",
    "retornaQuantidadeContatos(listaDeContato): essa função retorna a quantidade de contatos cadastrados na listaDeContato.\r\n",
    "\r\n",
    "imprimeMenu(): essa função imprime na tela as opções de cadastrar, buscar, remover,\r\n",
    " salvar no arquivo, ler do arquivo e retornar a quantidade de contatos.\r\n",
    "\r\n",
    "Crie uma agenda telefônica a partir das funções que você criou acima."
   ],
   "metadata": {}
  },
  {
   "cell_type": "code",
   "execution_count": 23,
   "source": [
    "def imprime_menu():\r\n",
    "    print(\"***********************************************\")\r\n",
    "    print(\"     Bem vindo a nossa lista telefônica\\nA seguir lhe apresentaremos as funções que dispomos:\")\r\n",
    "    print(\"***********************************************\")\r\n",
    "    print(\"1)Cadastro de novos contatos;\\n2)Busca de contatos;\\n3)Remoção de contatos;\\n4)Salvar modificações;\\n5)Leitura da lista;\\n6)Quantidade de contatos;\\n7)Sair.\")\r\n",
    "    #escolha=int(input(\"Qual opção você deseja executar? \"))"
   ],
   "outputs": [],
   "metadata": {}
  },
  {
   "cell_type": "code",
   "execution_count": 8,
   "source": [
    "imprime_menu()"
   ],
   "outputs": [
    {
     "output_type": "stream",
     "name": "stdout",
     "text": [
      "***********************************************\n",
      "     Bem vindo a nossa lista telefônica\n",
      "A seguir lhe apresentaremos as funções que dispomos:\n",
      "***********************************************\n",
      "1)Cadastro de novos contatos;\n",
      "2)Busca de contatos;\n",
      "3)Remoção de contatos;\n",
      "4)Salvar modificações;\n",
      "5)Leitura da lista;\n",
      "6)Quantidade de contatos;\n",
      "7)Sair.\n"
     ]
    }
   ],
   "metadata": {}
  },
  {
   "cell_type": "code",
   "execution_count": 37,
   "source": [
    "def cria_contato(lista_de_contatos):\r\n",
    "    lista_de_contatos.append([input(\"Digite o nome do contato: \"),int(input(\"Digite o telefone do contato: \"))])"
   ],
   "outputs": [],
   "metadata": {}
  },
  {
   "cell_type": "code",
   "execution_count": 39,
   "source": [
    "def busca_contato(lista_de_contatos,nome_buscado):\r\n",
    "    for [nome,telefone] in lista_de_contatos:\r\n",
    "        if nome == nome_buscado:\r\n",
    "            print(nome,telefone)"
   ],
   "outputs": [],
   "metadata": {}
  },
  {
   "cell_type": "code",
   "execution_count": 54,
   "source": [
    "def remove_contato(lista_de_contatos,telefone):\r\n",
    "    i=0 #contador\r\n",
    "    while i < len(lista_de_contatos):\r\n",
    "        if lista_de_contatos[i][1]==telefone:\r\n",
    "            lista_de_contatos.remove([lista_de_contatos[i][0],lista_de_contatos[i][1]])\r\n",
    "            print(\"\\nContato removido com sucesso\\n\")\r\n",
    "        i+=1\r\n"
   ],
   "outputs": [],
   "metadata": {}
  },
  {
   "cell_type": "code",
   "execution_count": 43,
   "source": [
    "lista_1=[[\"Rogerinho do Ingá\",81912345678],[\"Ednael\",81989743899]]\r\n",
    "#lista_1.remove([\"Ednael\",81989743899])\r\n",
    "len(lista_1)"
   ],
   "outputs": [
    {
     "output_type": "execute_result",
     "data": {
      "text/plain": [
       "<function __main__.lista_telefonica()>"
      ]
     },
     "metadata": {},
     "execution_count": 43
    }
   ],
   "metadata": {}
  },
  {
   "cell_type": "code",
   "execution_count": 52,
   "source": [
    "#arquivo_de_escrita = open(\"arquivoqueaindacriarei.txt\",\"w\")\r\n",
    "#lista_1=[[\"Rogerinho do Ingá\",81912345678]]\r\n",
    "def lista_telefonica():\r\n",
    "    para=False\r\n",
    "    users_choice=int()\r\n",
    "    lista_de_contatos=[]\r\n",
    "\r\n",
    "    while not para:\r\n",
    "    \r\n",
    "        imprime_menu()\r\n",
    "        users_choice=int(input(\"Digite uma opção dentre as mostradas: \"))\r\n",
    "        \r\n",
    "        if users_choice==1:\r\n",
    "            cria_contato(lista_de_contatos)\r\n",
    "        if users_choice==2:\r\n",
    "            busca_contato(lista_de_contatos,input(\"Digite o nome que deseja buscar: \"))\r\n",
    "        if users_choice==3:\r\n",
    "            remove_contato(lista_de_contatos,int(input(\"O telefone que deseja remover: \")))\r\n",
    "        if users_choice==4:\r\n",
    "            salva_modif()\r\n",
    "        if users_choice==5:\r\n",
    "            le_arquivo()\r\n",
    "        if users_choice==6:\r\n",
    "            retorna_quantidade()\r\n",
    "        if users_choice==7:\r\n",
    "            #print(\"ENTROU AQ\")\r\n",
    "            para=True\r\n",
    "        '''else:\r\n",
    "            print(\"Opção inválida\")'''\r\n",
    "    return []"
   ],
   "outputs": [],
   "metadata": {}
  },
  {
   "cell_type": "code",
   "execution_count": 53,
   "source": [
    "lista_telefonica()"
   ],
   "outputs": [
    {
     "output_type": "stream",
     "name": "stdout",
     "text": [
      "***********************************************\n",
      "     Bem vindo a nossa lista telefônica\n",
      "A seguir lhe apresentaremos as funções que dispomos:\n",
      "***********************************************\n",
      "1)Cadastro de novos contatos;\n",
      "2)Busca de contatos;\n",
      "3)Remoção de contatos;\n",
      "4)Salvar modificações;\n",
      "5)Leitura da lista;\n",
      "6)Quantidade de contatos;\n",
      "7)Sair.\n",
      "***********************************************\n",
      "     Bem vindo a nossa lista telefônica\n",
      "A seguir lhe apresentaremos as funções que dispomos:\n",
      "***********************************************\n",
      "1)Cadastro de novos contatos;\n",
      "2)Busca de contatos;\n",
      "3)Remoção de contatos;\n",
      "4)Salvar modificações;\n",
      "5)Leitura da lista;\n",
      "6)Quantidade de contatos;\n",
      "7)Sair.\n",
      "***********************************************\n",
      "     Bem vindo a nossa lista telefônica\n",
      "A seguir lhe apresentaremos as funções que dispomos:\n",
      "***********************************************\n",
      "1)Cadastro de novos contatos;\n",
      "2)Busca de contatos;\n",
      "3)Remoção de contatos;\n",
      "4)Salvar modificações;\n",
      "5)Leitura da lista;\n",
      "6)Quantidade de contatos;\n",
      "7)Sair.\n",
      "Contato removido com sucesso\n",
      "\n",
      "***********************************************\n",
      "     Bem vindo a nossa lista telefônica\n",
      "A seguir lhe apresentaremos as funções que dispomos:\n",
      "***********************************************\n",
      "1)Cadastro de novos contatos;\n",
      "2)Busca de contatos;\n",
      "3)Remoção de contatos;\n",
      "4)Salvar modificações;\n",
      "5)Leitura da lista;\n",
      "6)Quantidade de contatos;\n",
      "7)Sair.\n"
     ]
    },
    {
     "output_type": "error",
     "ename": "ValueError",
     "evalue": "invalid literal for int() with base 10: ''",
     "traceback": [
      "\u001b[1;31m---------------------------------------------------------------------------\u001b[0m",
      "\u001b[1;31mValueError\u001b[0m                                Traceback (most recent call last)",
      "\u001b[1;32m~\\AppData\\Local\\Temp/ipykernel_9620/1306586345.py\u001b[0m in \u001b[0;36m<module>\u001b[1;34m\u001b[0m\n\u001b[1;32m----> 1\u001b[1;33m \u001b[0mlista_telefonica\u001b[0m\u001b[1;33m(\u001b[0m\u001b[1;33m)\u001b[0m\u001b[1;33m\u001b[0m\u001b[1;33m\u001b[0m\u001b[0m\n\u001b[0m",
      "\u001b[1;32m~\\AppData\\Local\\Temp/ipykernel_9620/3941426455.py\u001b[0m in \u001b[0;36mlista_telefonica\u001b[1;34m()\u001b[0m\n\u001b[0;32m      9\u001b[0m \u001b[1;33m\u001b[0m\u001b[0m\n\u001b[0;32m     10\u001b[0m         \u001b[0mimprime_menu\u001b[0m\u001b[1;33m(\u001b[0m\u001b[1;33m)\u001b[0m\u001b[1;33m\u001b[0m\u001b[1;33m\u001b[0m\u001b[0m\n\u001b[1;32m---> 11\u001b[1;33m         \u001b[0musers_choice\u001b[0m\u001b[1;33m=\u001b[0m\u001b[0mint\u001b[0m\u001b[1;33m(\u001b[0m\u001b[0minput\u001b[0m\u001b[1;33m(\u001b[0m\u001b[1;34m\"Digite uma opção dentre as mostradas: \"\u001b[0m\u001b[1;33m)\u001b[0m\u001b[1;33m)\u001b[0m\u001b[1;33m\u001b[0m\u001b[1;33m\u001b[0m\u001b[0m\n\u001b[0m\u001b[0;32m     12\u001b[0m \u001b[1;33m\u001b[0m\u001b[0m\n\u001b[0;32m     13\u001b[0m         \u001b[1;32mif\u001b[0m \u001b[0musers_choice\u001b[0m\u001b[1;33m==\u001b[0m\u001b[1;36m1\u001b[0m\u001b[1;33m:\u001b[0m\u001b[1;33m\u001b[0m\u001b[1;33m\u001b[0m\u001b[0m\n",
      "\u001b[1;31mValueError\u001b[0m: invalid literal for int() with base 10: ''"
     ]
    }
   ],
   "metadata": {}
  }
 ],
 "metadata": {
  "orig_nbformat": 4,
  "language_info": {
   "name": "python",
   "version": "3.8.11",
   "mimetype": "text/x-python",
   "codemirror_mode": {
    "name": "ipython",
    "version": 3
   },
   "pygments_lexer": "ipython3",
   "nbconvert_exporter": "python",
   "file_extension": ".py"
  },
  "kernelspec": {
   "name": "python3",
   "display_name": "Python 3.8.11 64-bit ('rsd': conda)"
  },
  "interpreter": {
   "hash": "42f74353e3a9b5a4cb43330aab4e888bd8c99887f1f7b7373840781ed1656684"
  }
 },
 "nbformat": 4,
 "nbformat_minor": 2
}