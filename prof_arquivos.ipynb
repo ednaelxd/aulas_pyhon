{
 "cells": [
  {
   "cell_type": "code",
   "execution_count": 2,
   "source": [
    "######################################################################\r\n",
    "\"********************AULA DE ARQUIVOS**********************************\"\r\n",
    "######################################################################"
   ],
   "outputs": [
    {
     "output_type": "execute_result",
     "data": {
      "text/plain": [
       "'********************AULA DE ARQUIVOS**********************************'"
      ]
     },
     "metadata": {},
     "execution_count": 2
    }
   ],
   "metadata": {}
  },
  {
   "cell_type": "markdown",
   "source": [
    "acesso_arquivo = open (\"exemplo.txt\",\"r\")\r\n",
    "\r\n",
    "#Se eu não der nenhum caminho para diretório específico, o python tentará abrir o arquivo no diretório principal\r\n",
    "#Argumentos do segundo parâmetros\r\n",
    "    r - leitura\r\n",
    "    w - escrita do arquivo\r\n",
    "    a - acréscimo, concatena ao fim"
   ],
   "metadata": {}
  },
  {
   "cell_type": "markdown",
   "source": [
    "Funções de leitura\r\n",
    "\r\n",
    "arquivo.read() - Lê o arquivo completo e armazena como string\r\n",
    "arquivo.readline() - Lê p arquivo até encontrar um \\n\r\n",
    "arquivo.write(s) - Grava a string 's' no arquivo\r\n",
    "\r\n",
    "Em python não temos EOF, apenas a detecção de uma string vazia, enterrompe a leitura"
   ],
   "metadata": {}
  },
  {
   "cell_type": "code",
   "execution_count": 22,
   "source": [
    "texto=open(\"meunome.txt\",\"w\")\r\n",
    "\r\n",
    "texto.write(\"Ednael Francisco Vieira da Silva\\n\")\r\n",
    "texto.write(\"Ednael Francisco Vieira da Silva\\n\")\r\n",
    "texto.write(\"Ednael Francisco Vieira da Silva\\n\")\r\n",
    "texto.write(\"Ednael Francisco Vieira da Silva\\n\")\r\n",
    "\r\n",
    "texto.close()"
   ],
   "outputs": [],
   "metadata": {}
  },
  {
   "cell_type": "markdown",
   "source": [
    "Enquanto um arquivo não é fechado, o que pretendemos escrever nele, fica num buffer, porque o ato de escrita é um gargalo no nosso programa. Se eu n fechar o arquivo e houver uma queda de energia, o arquivo não estará gravado no disco.\r\n",
    "O close grava tudo que há no buffer\r\n",
    "POR ISSO, TEMOS QUE FECHARRRRRRRRRR O AR-QUI-VO!\r\n",
    "FECHE\r\n",
    "O\r\n",
    "ARQUIVO!\r\n",
    "\r\n",
    "f flush, armazena também"
   ],
   "metadata": {}
  },
  {
   "cell_type": "markdown",
   "source": [
    "Para o acesso de arquivos em diretórios diversos, devemos especificar o diretório\r\n",
    "    Em linux, a separação de pastas é com a barra \"/\"\r\n",
    "    No windows, os arquivos são separados por \"\\\"\r\n",
    "Em suma, criando uma aplicação multiplataforma, devemos considerar esse fato\r\n",
    "\r\n",
    "Fatiamento de strings\r\n",
    "\r\n",
    "nome = 'Ednael Francisco'\r\n",
    "nome[3:] - Captura tudo após o \"a\""
   ],
   "metadata": {}
  },
  {
   "cell_type": "code",
   "execution_count": null,
   "source": [
    "def tratamento_string(nome):\r\n",
    "    nome_aux = \"\"\r\n",
    "    for caractere in nome:\r\n",
    "        if caractere !=\"\\n\":\r\n",
    "            nome_aux+=caractere\r\n",
    "    return nome_aux\r\n",
    "\r\n",
    "def tratamento_string2(nome):\r\n",
    "    if \"\\n\" in nome:\r\n",
    "        return nome[:len(nome)-1]\r\n",
    "    else:\r\n",
    "       return nome #para o caso do ultimo elemento, se não cortaria a ultima letra dele"
   ],
   "outputs": [],
   "metadata": {}
  },
  {
   "cell_type": "code",
   "execution_count": null,
   "source": [
    "#A partir de um arquivo txt com vários nomes separados, linha a linha, como uma lista de convidados propriamente dita\r\n",
    "linhas = arq.readlines()\r\n",
    "lista_convidados=[]\r\n",
    "for linha in linhas:\r\n",
    "    lista_convidados.append(tratamento_string2(linha))"
   ],
   "outputs": [],
   "metadata": {}
  },
  {
   "cell_type": "code",
   "execution_count": null,
   "source": [
    "######################################################################\r\n",
    "\"***************************NOSSO PROJETO****************************\"\r\n",
    "######################################################################\r\n",
    "\r\n",
    "\"CONSISTIRÁ NA CRIAÇÃO DE UM PROGRAMA QUE CONTEM FUNÇÕES DE BUSCA, ARMAZENAMENTO, EXTRAÇÃO\"\r\n",
    "\r\n",
    "import os.path"
   ],
   "outputs": [],
   "metadata": {}
  }
 ],
 "metadata": {
  "orig_nbformat": 4,
  "language_info": {
   "name": "python",
   "version": "3.9.7",
   "mimetype": "text/x-python",
   "codemirror_mode": {
    "name": "ipython",
    "version": 3
   },
   "pygments_lexer": "ipython3",
   "nbconvert_exporter": "python",
   "file_extension": ".py"
  },
  "kernelspec": {
   "name": "python3",
   "display_name": "Python 3.9.7 64-bit"
  },
  "interpreter": {
   "hash": "0721bd1a4770cf2bdc32816084f1a2b41fcbc3dc44910312d16644dc40941dad"
  }
 },
 "nbformat": 4,
 "nbformat_minor": 2
}