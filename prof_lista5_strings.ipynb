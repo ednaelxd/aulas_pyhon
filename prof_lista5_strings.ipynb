{
 "cells": [
  {
   "cell_type": "markdown",
   "source": [
    "Questão 1:\r\n",
    "Escreva um programa que receba uma string como entrada do usuário e imprima o tamanho da string."
   ],
   "metadata": {}
  },
  {
   "cell_type": "code",
   "execution_count": 3,
   "source": [
    "palavra = input(\"Digite a primeira palavra que vir a sua mente: \")\r\n",
    "print(\"A palavra\",palavra,\"possui\",len(palavra),\"caracteres\")"
   ],
   "outputs": [
    {
     "output_type": "stream",
     "name": "stdout",
     "text": [
      "A palavra Ednael possui 6 caracteres\n"
     ]
    }
   ],
   "metadata": {}
  },
  {
   "cell_type": "markdown",
   "source": [
    "Questão 2:\r\n",
    "Escreva um programa que receba uma string como entrada do usuário e imprima a quantidade de vogais."
   ],
   "metadata": {}
  },
  {
   "cell_type": "code",
   "execution_count": 8,
   "source": [
    "#Sem usar substring\r\n",
    "palavra2 = input(\"Digite a primeira palavra que vir a sua mente: \")\r\n",
    "vogais='aeiouAEIOU'\r\n",
    "contador_vogais=0\r\n",
    "for letras in palavra2:\r\n",
    "    if( letras==\"a\" or letras==\"e\" or letras==\"i\" or letras==\"o\" or letras==\"u\" or\r\n",
    "    letras==\"A\" or letras==\"E\" or letras==\"I\" or letras==\"O\" or letras==\"U\"):\r\n",
    "        contador_vogais+=1\r\n",
    "print(f\"Sua palavra possui {contador_vogais} vogais\")\r\n",
    "#Usando substring\r\n",
    "palavra3 = input(\"Digite a primeira palavra que vir a sua mente: \")\r\n",
    "vogais='aeiouAEIOU'\r\n",
    "contador_vogais2=0\r\n",
    "for letras in palavra3:\r\n",
    "    if letras in vogais:\r\n",
    "        contador_vogais2+=1\r\n",
    "print(f\"Sua palavra possui {contador_vogais2} vogais\")"
   ],
   "outputs": [
    {
     "output_type": "stream",
     "name": "stdout",
     "text": [
      "Sua palavra possui 3 vogais\n",
      "Sua palavra possui 3 vogais\n"
     ]
    }
   ],
   "metadata": {}
  },
  {
   "cell_type": "markdown",
   "source": [
    "Questão 3:\r\n",
    "Implemente um programa que solicita o tamanho da lista de palavras que o usuário dará como entrada. Após o usuário inserir as palavras, o programa deve imprimir as palavras da lista que sejam diferentes da palavra “segredo”."
   ],
   "metadata": {}
  },
  {
   "cell_type": "code",
   "execution_count": 14,
   "source": [
    "print(\"\\nPrograma que diz se você adivinhou nosso 'segredo' :]\")\r\n",
    "lista_palavras = []\r\n",
    "lista_de_erros = []\r\n",
    "contador=0\r\n",
    "tam = int (input(\"Quantas palavras você deseja testar? \"))\r\n",
    "while contador<tam:\r\n",
    "    print(lista_palavras)\r\n",
    "    lista_palavras.append(input(f\"Digite a {contador+1}ª palavra: \"))\r\n",
    "    if(lista_palavras[contador]!=\"segredo\"):\r\n",
    "        lista_de_erros.append(lista_palavras[contador])\r\n",
    "    contador+=1\r\n",
    "print(\"As tentativas sem sucesso foram:\")\r\n",
    "print(lista_de_erros)"
   ],
   "outputs": [
    {
     "output_type": "stream",
     "name": "stdout",
     "text": [
      "\n",
      "Programa que diz se você adivinhou nosso 'segredo' :]\n",
      "[]\n",
      "['aaaaaa']\n",
      "['aaaaaa', 'bbbbbbb']\n",
      "As tentativas sem sucesso foram:\n",
      "['aaaaaa', 'bbbbbbb', 'ccccc']\n"
     ]
    }
   ],
   "metadata": {}
  },
  {
   "cell_type": "code",
   "execution_count": 18,
   "source": [
    "contador"
   ],
   "outputs": [
    {
     "output_type": "execute_result",
     "data": {
      "text/plain": [
       "0"
      ]
     },
     "metadata": {},
     "execution_count": 18
    }
   ],
   "metadata": {}
  },
  {
   "cell_type": "markdown",
   "source": [
    "Questão 4:\r\n",
    "Implemente um programa que solicita para o usuário vários nomes de alunos até que ele dê como entrada uma string vazia. Por fim, exiba aqueles nomes que começam com as letras de A até M."
   ],
   "metadata": {}
  },
  {
   "cell_type": "code",
   "execution_count": 9,
   "source": [
    "lista_alunos=[]\r\n",
    "parada=True\r\n",
    "count=0\r\n",
    "while parada:\r\n",
    "    lista_alunos.append(input(\"Digite o nome de um aluno: \"))\r\n",
    "    if (lista_alunos[count]==\"\"):\r\n",
    "        parada=False\r\n",
    "    count+=1\r\n",
    "lista_alunos.pop()\r\n",
    "for nom in lista_alunos:\r\n",
    "    if nom[0]>=\"A\" and nom[0]<=\"M\":\r\n",
    "        print(nom)"
   ],
   "outputs": [
    {
     "output_type": "stream",
     "name": "stdout",
     "text": [
      "Ednael\n",
      "Jubileu\n",
      "Marcos\n",
      "Leo\n"
     ]
    }
   ],
   "metadata": {}
  },
  {
   "cell_type": "code",
   "execution_count": 31,
   "source": [
    "nome=\"Ednael\"\r\n",
    "nome[1]"
   ],
   "outputs": [
    {
     "output_type": "execute_result",
     "data": {
      "text/plain": [
       "'d'"
      ]
     },
     "metadata": {},
     "execution_count": 31
    }
   ],
   "metadata": {}
  },
  {
   "cell_type": "markdown",
   "source": [
    "Questão 5:\r\n",
    "Implemente um programa que solicita 5 nomes para o usuário. Seu programa deve transformar os nomes fornecidos para os mesmos nomes com caracteres maiúsculos"
   ],
   "metadata": {}
  },
  {
   "cell_type": "markdown",
   "source": [
    "Questão 6:\r\n",
    "Implemente um programa que receba uma frase do usuário. O programa deve imprimir a frase com todas as palavras começando com a letra maiúscula e todas as outras começando com a letra minúscula. Exemplo:\r\n",
    "\r\n",
    "Input:“o GATO roeu a roupa DO REI de roMA”\r\n",
    "\r\n",
    "Output: “O Gato Roeu A Roupa Do Rei De Roma”"
   ],
   "metadata": {}
  }
 ],
 "metadata": {
  "orig_nbformat": 4,
  "language_info": {
   "name": "python",
   "version": "3.9.7",
   "mimetype": "text/x-python",
   "codemirror_mode": {
    "name": "ipython",
    "version": 3
   },
   "pygments_lexer": "ipython3",
   "nbconvert_exporter": "python",
   "file_extension": ".py"
  },
  "kernelspec": {
   "name": "python3",
   "display_name": "Python 3.9.7 64-bit"
  },
  "interpreter": {
   "hash": "0721bd1a4770cf2bdc32816084f1a2b41fcbc3dc44910312d16644dc40941dad"
  }
 },
 "nbformat": 4,
 "nbformat_minor": 2
}