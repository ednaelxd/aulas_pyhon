{
 "cells": [
  {
   "cell_type": "code",
   "execution_count": 1,
   "source": [
    "lista_lista = []\r\n",
    "type(lista_lista)"
   ],
   "outputs": [
    {
     "output_type": "execute_result",
     "data": {
      "text/plain": [
       "list"
      ]
     },
     "metadata": {},
     "execution_count": 1
    }
   ],
   "metadata": {}
  },
  {
   "cell_type": "markdown",
   "source": [
    ".append é uma função, cujo argumento é adicionado no fim da lista\r\n",
    "Pode-se também buscar um determinado elemento de uma lista através de um operador de indexação,\r\n",
    "que possuí esse nome pelo fato de formar uma busca por 'índice'\r\n",
    "ex: lista_lista[0]\r\n",
    "\r\n",
    "Funções internas para identificação em Lista:\r\n",
    "\r\n",
    ".count() - Retorna o número de ocorrências de um item na lsita\r\n",
    "<x> In <lista>() - Retorna True se o objeto estiver na lista\r\n",
    "<x> not in <lista> - False se estiver\r\n",
    "<lista>.pop() - Remove o último item da lista\r\n",
    "<lista>.index() - Retorna a posição do item na lista\r\n",
    "<lista>.reverse() - inverte a ordem dos itens\r\n",
    "<lista>.insert(<posição>,<valor>) - Adiciona um elemento na posição.\r\n",
    "OBS: ESSA FUNÇÃO NÃO SOBRESCREVE ITENS, MAS DESLOCA OS EXISTENTES"
   ],
   "metadata": {}
  },
  {
   "cell_type": "code",
   "execution_count": 2,
   "source": [
    "#Lista de listas\r\n",
    "animais = [['abelha','Apis mellifera'],['Baleia','Balaenoptera physalus',['Boi','Bos taurus']]]\r\n",
    "animais[0][0]"
   ],
   "outputs": [
    {
     "output_type": "execute_result",
     "data": {
      "text/plain": [
       "'abelha'"
      ]
     },
     "metadata": {},
     "execution_count": 2
    }
   ],
   "metadata": {}
  },
  {
   "cell_type": "code",
   "execution_count": 9,
   "source": [
    "alunos = [['Tasso',20],['Ednael',23],['Jhon',43]]\r\n",
    "\r\n",
    "for [nome,idade] in alunos:\r\n",
    "    print(nome,'tem',idade,'anos')\r\n",
    "print('\\n\\n')\r\n",
    "for alunos in alunos:\r\n",
    "    print(alunos[0],'tem',alunos[1],'anos')\r\n",
    "print('\\n\\n')\r\n",
    "for i in range(4):\r\n",
    "    print(alunos[i][0],'tem',alunos[i][1],'anos')"
   ],
   "outputs": [
    {
     "output_type": "stream",
     "name": "stdout",
     "text": [
      "Tasso tem 20 anos\n",
      "Ednael tem 23 anos\n",
      "Jhon tem 43 anos\n",
      "\n",
      "\n",
      "\n",
      "Tasso tem 20 anos\n",
      "Ednael tem 23 anos\n",
      "Jhon tem 43 anos\n",
      "\n",
      "\n",
      "\n",
      "J tem h anos\n"
     ]
    },
    {
     "output_type": "error",
     "ename": "TypeError",
     "evalue": "'int' object is not subscriptable",
     "traceback": [
      "\u001b[1;31m---------------------------------------------------------------------------\u001b[0m",
      "\u001b[1;31mTypeError\u001b[0m                                 Traceback (most recent call last)",
      "\u001b[1;32m~\\AppData\\Local\\Temp/ipykernel_6660/2396012987.py\u001b[0m in \u001b[0;36m<module>\u001b[1;34m\u001b[0m\n\u001b[0;32m      8\u001b[0m \u001b[0mprint\u001b[0m\u001b[1;33m(\u001b[0m\u001b[1;34m'\\n\\n'\u001b[0m\u001b[1;33m)\u001b[0m\u001b[1;33m\u001b[0m\u001b[1;33m\u001b[0m\u001b[0m\n\u001b[0;32m      9\u001b[0m \u001b[1;32mfor\u001b[0m \u001b[0mi\u001b[0m \u001b[1;32min\u001b[0m \u001b[0mrange\u001b[0m\u001b[1;33m(\u001b[0m\u001b[1;36m4\u001b[0m\u001b[1;33m)\u001b[0m\u001b[1;33m:\u001b[0m\u001b[1;33m\u001b[0m\u001b[1;33m\u001b[0m\u001b[0m\n\u001b[1;32m---> 10\u001b[1;33m     \u001b[0mprint\u001b[0m\u001b[1;33m(\u001b[0m\u001b[0malunos\u001b[0m\u001b[1;33m[\u001b[0m\u001b[0mi\u001b[0m\u001b[1;33m]\u001b[0m\u001b[1;33m[\u001b[0m\u001b[1;36m0\u001b[0m\u001b[1;33m]\u001b[0m\u001b[1;33m,\u001b[0m\u001b[1;34m'tem'\u001b[0m\u001b[1;33m,\u001b[0m\u001b[0malunos\u001b[0m\u001b[1;33m[\u001b[0m\u001b[0mi\u001b[0m\u001b[1;33m]\u001b[0m\u001b[1;33m[\u001b[0m\u001b[1;36m1\u001b[0m\u001b[1;33m]\u001b[0m\u001b[1;33m,\u001b[0m\u001b[1;34m'anos'\u001b[0m\u001b[1;33m)\u001b[0m\u001b[1;33m\u001b[0m\u001b[1;33m\u001b[0m\u001b[0m\n\u001b[0m",
      "\u001b[1;31mTypeError\u001b[0m: 'int' object is not subscriptable"
     ]
    }
   ],
   "metadata": {}
  },
  {
   "cell_type": "markdown",
   "source": [
    "range(x): gera uma lista de 0 INCLUSO até x\r\n",
    "range(3,10): gera uma lista que vai de [x,y)\r\n",
    "range(x,y,z): o z diz o tamanho do passo\r\n",
    "\r\n",
    "#Criação de sublistas - atraves do operador de fatiamento\r\n",
    "lista[3:] - fatia a partir do terceiro elemento até o fim\r\n",
    "lista[3:8] - não inclui o elemento que está no índice 8"
   ],
   "metadata": {}
  },
  {
   "cell_type": "code",
   "execution_count": 16,
   "source": [],
   "outputs": [
    {
     "output_type": "error",
     "ename": "TypeError",
     "evalue": "'type' object is not subscriptable",
     "traceback": [
      "\u001b[1;31m---------------------------------------------------------------------------\u001b[0m",
      "\u001b[1;31mTypeError\u001b[0m                                 Traceback (most recent call last)",
      "\u001b[1;32m~\\AppData\\Local\\Temp/ipykernel_6660/702959155.py\u001b[0m in \u001b[0;36m<module>\u001b[1;34m\u001b[0m\n\u001b[0;32m      1\u001b[0m \u001b[0ma\u001b[0m\u001b[1;33m=\u001b[0m \u001b[1;33m[\u001b[0m\u001b[1;34m'a'\u001b[0m\u001b[1;33m,\u001b[0m\u001b[1;34m'b'\u001b[0m\u001b[1;33m,\u001b[0m\u001b[1;34m'c'\u001b[0m\u001b[1;33m]\u001b[0m\u001b[1;33m\u001b[0m\u001b[1;33m\u001b[0m\u001b[0m\n\u001b[1;32m----> 2\u001b[1;33m \u001b[1;32mfor\u001b[0m \u001b[0masdf\u001b[0m \u001b[1;32min\u001b[0m \u001b[0mrange\u001b[0m\u001b[1;33m[\u001b[0m\u001b[1;36m3\u001b[0m\u001b[1;33m]\u001b[0m\u001b[1;33m:\u001b[0m\u001b[1;33m\u001b[0m\u001b[1;33m\u001b[0m\u001b[0m\n\u001b[0m\u001b[0;32m      3\u001b[0m     \u001b[0mprint\u001b[0m\u001b[1;33m(\u001b[0m\u001b[0ma\u001b[0m\u001b[1;33m[\u001b[0m\u001b[0mi\u001b[0m\u001b[1;33m]\u001b[0m\u001b[1;33m)\u001b[0m\u001b[1;33m\u001b[0m\u001b[1;33m\u001b[0m\u001b[0m\n",
      "\u001b[1;31mTypeError\u001b[0m: 'type' object is not subscriptable"
     ]
    }
   ],
   "metadata": {}
  }
 ],
 "metadata": {
  "orig_nbformat": 4,
  "language_info": {
   "name": "python",
   "version": "3.9.7",
   "mimetype": "text/x-python",
   "codemirror_mode": {
    "name": "ipython",
    "version": 3
   },
   "pygments_lexer": "ipython3",
   "nbconvert_exporter": "python",
   "file_extension": ".py"
  },
  "kernelspec": {
   "name": "python3",
   "display_name": "Python 3.9.7 64-bit"
  },
  "interpreter": {
   "hash": "0721bd1a4770cf2bdc32816084f1a2b41fcbc3dc44910312d16644dc40941dad"
  }
 },
 "nbformat": 4,
 "nbformat_minor": 2
}