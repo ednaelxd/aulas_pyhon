{
 "cells": [
  {
   "cell_type": "code",
   "execution_count": null,
   "source": [
    "def le_banco(dados_jogadores):\r\n",
    "    arq = open(\"lista_de_players\",\"r\")\r\n",
    "    linhas_arq = readlines(arq)\r\n",
    "    while i<linhas_arq\r\n"
   ],
   "outputs": [],
   "metadata": {}
  },
  {
   "cell_type": "code",
   "execution_count": 34,
   "source": [
    "linhas_arq"
   ],
   "outputs": [
    {
     "output_type": "execute_result",
     "data": {
      "text/plain": [
       "['Login: ednaelxd\\n',\n",
       " 'Senha: 123456\\n',\n",
       " '\\n',\n",
       " 'Classe do personagem: Mago\\n',\n",
       " '\\n',\n",
       " 'Atributos:\\n',\n",
       " '\\n',\n",
       " 'Forca: 5\\n',\n",
       " 'Agilidade: 1\\n',\n",
       " 'Vitalidade: 10\\n',\n",
       " 'Inteligencia: 50\\n',\n",
       " 'Destreza: 30\\n',\n",
       " 'Sorte: 1\\n',\n",
       " '**********************************\\n',\n",
       " 'Login: manolo222\\n',\n",
       " 'Senha: 123456\\n',\n",
       " '\\n',\n",
       " 'Classe do personagem: Guerreiro\\n',\n",
       " '\\n',\n",
       " 'Atributos:\\n',\n",
       " '\\n',\n",
       " 'Forca: 50\\n',\n",
       " 'Agilidade: 30\\n',\n",
       " 'Vitalidade: 10\\n',\n",
       " 'Inteligencia: 1\\n',\n",
       " 'Destreza: 1\\n',\n",
       " 'Sorte: 1\\n',\n",
       " '**********************************']"
      ]
     },
     "metadata": {},
     "execution_count": 34
    }
   ],
   "metadata": {}
  },
  {
   "cell_type": "code",
   "execution_count": 40,
   "source": [
    "linhas_arq[14][linhas_arq[14].index(\": \")+1:linhas_arq[14].index(\"\\n\")]"
   ],
   "outputs": [
    {
     "output_type": "execute_result",
     "data": {
      "text/plain": [
       "' manolo222'"
      ]
     },
     "metadata": {},
     "execution_count": 40
    }
   ],
   "metadata": {}
  },
  {
   "cell_type": "code",
   "execution_count": 366,
   "source": [
    "'''arq = open(\"lista_de_players.txt\",\"r\")\r\n",
    "linhas_arq = arq.readlines()\r\n",
    "lista_logins=[]\r\n",
    "infos_personagens=[]\r\n",
    "cabecalhos_dados=[]\r\n",
    "dic_atb={}\r\n",
    "dic_geral={}\r\n",
    "i=0 #contador das linhas\r\n",
    "n=0 #contador dos personagens\r\n",
    "j=0\r\n",
    "while i<len(linhas_arq):\r\n",
    "    #salvar logins como chaves do dicionario externo\r\n",
    "    #salvar nomes dos atributos como chaves e os pontos e nomes como valores\r\n",
    "    if ((i-n*14)==0): #captura de logins\r\n",
    "        lista_logins.append(linhas_arq[i][linhas_arq[i].index(\": \")+1 : linhas_arq[i].index(\"\\n\")])\r\n",
    "    elif((i-14*n)==3):#captura as classes dos personagens\r\n",
    "        infos_personagens.append(linhas_arq[i][linhas_arq[i].index(\": \")+1:linhas_arq[i].index(\"\\n\")])\r\n",
    "        cabecalhos_dados.append(linhas_arq[i][:linhas_arq[i].index(\": \")])\r\n",
    "        dic_atb[cabecalhos_dados[j]]=infos_personagens[j]\r\n",
    "        j+=1\r\n",
    "    elif (i-14*n)>=7 and (i-14*n)<=12: #captura os atributos dos personagems\r\n",
    "        #Fiz dessa forma pra depois não ter que percorrer os dados novamente, soh pra converter em numero\r\n",
    "        infos_personagens.append(int(linhas_arq[i][linhas_arq[i].index(\": \")+1:linhas_arq[i].index(\"\\n\")]))#valor atb\r\n",
    "        cabecalhos_dados.append(linhas_arq[i][:linhas_arq[i].index(\": \")])#atrib\r\n",
    "        dic_atb[cabecalhos_dados[j]]=infos_personagens[j]\r\n",
    "        dic_geral[lista_logins[n]]=dic_atb\r\n",
    "        j+=1\r\n",
    "        #print(dic_atb)\r\n",
    "        #if(j%6==0 and j>0):\r\n",
    "            #dic_geral[lista_logins[n]]=dic_atb\r\n",
    "            #print(\"ENTROU AQUIIIIIIIIIIIIIIIIIII\")\r\n",
    "            #print(\"\")\r\n",
    "            #print(n,j,i)\r\n",
    "            #dic_atb=[]\r\n",
    "            #print(dic_geral,\"\\n\")\r\n",
    "    if (\"***\" in linhas_arq[i]): #captura o fim de dados de um personagem\r\n",
    "        print(\"fim da lista\",i)\r\n",
    "        n+=1\r\n",
    "    i+=1\r\n",
    "\r\n",
    "\r\n",
    "print(lista_logins)\r\n",
    "print(infos_personagens)\r\n",
    "print(cabecalhos_dados)\r\n",
    "print(dic_atb)\r\n",
    "print(dic_geral)'''"
   ],
   "outputs": [
    {
     "output_type": "stream",
     "name": "stdout",
     "text": [
      "fim da lista 13\n",
      "fim da lista 27\n",
      "[' ednaelxd', ' manolo222']\n",
      "[' Mago', 5, 1, 10, 80, 30, 1, ' Guerreiro', 50, 30, 45, 1, 10, 2]\n",
      "['Classe do personagem', 'Forca', 'Agilidade', 'Vitalidade', 'Inteligencia', 'Destreza', 'Sorte', 'Classe do personagem', 'Forca', 'Agilidade', 'Vitalidade', 'Inteligencia', 'Destreza', 'Sorte']\n",
      "{'Classe do personagem': ' Guerreiro', 'Forca': 50, 'Agilidade': 30, 'Vitalidade': 45, 'Inteligencia': 1, 'Destreza': 10, 'Sorte': 2}\n",
      "{' ednaelxd': {'Classe do personagem': ' Guerreiro', 'Forca': 50, 'Agilidade': 30, 'Vitalidade': 45, 'Inteligencia': 1, 'Destreza': 10, 'Sorte': 2}, ' manolo222': {'Classe do personagem': ' Guerreiro', 'Forca': 50, 'Agilidade': 30, 'Vitalidade': 45, 'Inteligencia': 1, 'Destreza': 10, 'Sorte': 2}}\n"
     ]
    }
   ],
   "metadata": {}
  },
  {
   "cell_type": "code",
   "execution_count": 379,
   "source": [
    "def menu():\r\n",
    "    print(\"__________________________________________\")\r\n",
    "    print(\"| Bem vindo ao nosso sistema de registro |\")\r\n",
    "    print(\"|     O que você deseja fazer hoje?      |\")\r\n",
    "    print(\"||||||||||||||||||||||||||||||||||||||||||\")\r\n",
    "    print(\"|1.||Ver|as|informações|dos|jogadores|||||\")\r\n",
    "    print(\"|2.|Inserir|dados|de|um|novo|player|||||||\")\r\n",
    "    print(\"|3.||Atualizar|informações|de|um|player|||\")\r\n",
    "    print(\"|4.||Apagar|uma|conta|existente|||||||||||\")\r\n",
    "    print(\"|5.||Consultar|dados|de|um|jogador||||||||\")\r\n",
    "    print(\"|6.|||||||||||||||||||||||||||||||||||||||\")\r\n",
    "menu()"
   ],
   "outputs": [
    {
     "output_type": "stream",
     "name": "stdout",
     "text": [
      "__________________________________________\n",
      "| Bem vindo ao nosso sistema de registro |\n",
      "|     O que você deseja fazer hoje?      |\n",
      "||||||||||||||||||||||||||||||||||||||||||\n",
      "|1.||Ver|as|informações|dos|jogadores|||||\n",
      "|2.|Inserir|dados|de|um|novo|player|||||||\n",
      "|3.||Atualizar|informações|de|um|player|||\n",
      "|4.||Apagar|uma|conta|existente|||||||||||\n",
      "|5.||Consultar|dados|de|um|jogador||||||||\n",
      "|6.|||||||||||||||||||||||||||||||||||||||\n"
     ]
    }
   ],
   "metadata": {}
  },
  {
   "cell_type": "code",
   "execution_count": 423,
   "source": [
    "def le_banco(arquivo_base):\r\n",
    "    arq = open(\"lista_de_players.txt\",\"r\")\r\n",
    "    linhas_arq = arq.readlines()\r\n",
    "    lista_logins=[]\r\n",
    "    infos_personagens=[]\r\n",
    "    cabecalhos_dados=[]\r\n",
    "    dic_geral={}\r\n",
    "    i=0 #contador das linhas\r\n",
    "    n=0 #contador dos personagens\r\n",
    "    j=0 #contador de apoio\r\n",
    "    while i<len(linhas_arq):\r\n",
    "        #salvar logins como chaves do dicionario externo\r\n",
    "        #salvar nomes dos atributos como chaves e os pontos e nomes como valores\r\n",
    "        if ((i-n*14)==0): #captura de logins\r\n",
    "            lista_logins.append(linhas_arq[i][linhas_arq[i].index(\": \")+1 : linhas_arq[i].index(\"\\n\")])\r\n",
    "        elif((i-14*n)==3):#captura as classes dos personagens\r\n",
    "            infos_personagens.append(linhas_arq[i][linhas_arq[i].index(\": \")+1:linhas_arq[i].index(\"\\n\")])\r\n",
    "            cabecalhos_dados.append(linhas_arq[i][:linhas_arq[i].index(\": \")])\r\n",
    "            j+=1\r\n",
    "        elif (i-14*n)>=7 and (i-14*n)<=12: #captura os atributos dos personagems\r\n",
    "            #Fiz dessa forma pra depois não ter que percorrer os dados novamente, soh pra converter em numero\r\n",
    "            infos_personagens.append(int(linhas_arq[i][linhas_arq[i].index(\": \")+1:linhas_arq[i].index(\"\\n\")]))#valor atb\r\n",
    "            cabecalhos_dados.append(linhas_arq[i][:linhas_arq[i].index(\": \")])#atrib\r\n",
    "            j+=1\r\n",
    "            #print(dic_atb)\r\n",
    "            if(j%7==0 and j>0):\r\n",
    "                dic_geral[lista_logins[n]]=dict(zip(cabecalhos_dados[:j],infos_personagens[:j]))\r\n",
    "                cabecalhos_dados=[]\r\n",
    "                infos_personagens=[]\r\n",
    "        if (\"***\" in linhas_arq[i]): #captura o fim de dados de um personagem\r\n",
    "            print(\"fim da lista\",i)\r\n",
    "            n+=1\r\n",
    "        i+=1\r\n",
    "    arquivo_base=dic_geral\r\n",
    "    return(arquivo_base)"
   ],
   "outputs": [
    {
     "output_type": "stream",
     "name": "stdout",
     "text": [
      "fim da lista 13\n",
      "fim da lista 27\n",
      "{' ednaelxd': {'Classe do personagem': ' Mago', 'Forca': 5, 'Agilidade': 1, 'Vitalidade': 10, 'Inteligencia': 80, 'Destreza': 30, 'Sorte': 1}, ' manolo222': {'Classe do personagem': ' Guerreiro', 'Forca': 50, 'Agilidade': 30, 'Vitalidade': 45, 'Inteligencia': 1, 'Destreza': 10, 'Sorte': 2}}\n"
     ]
    }
   ],
   "metadata": {}
  },
  {
   "cell_type": "code",
   "execution_count": 427,
   "source": [
    "\r\n",
    "manter=dic_geral"
   ],
   "outputs": [
    {
     "output_type": "execute_result",
     "data": {
      "text/plain": [
       "{' ednaelxd': {'Classe do personagem': ' Mago',\n",
       "  'Forca': 5,\n",
       "  'Agilidade': 1,\n",
       "  'Vitalidade': 10,\n",
       "  'Inteligencia': 80,\n",
       "  'Destreza': 30,\n",
       "  'Sorte': 1},\n",
       " ' manolo222': {'Classe do personagem': ' Guerreiro',\n",
       "  'Forca': 50,\n",
       "  'Agilidade': 30,\n",
       "  'Vitalidade': 45,\n",
       "  'Inteligencia': 1,\n",
       "  'Destreza': 10,\n",
       "  'Sorte': 2}}"
      ]
     },
     "metadata": {},
     "execution_count": 427
    }
   ],
   "metadata": {}
  },
  {
   "cell_type": "code",
   "execution_count": null,
   "source": [
    "#def imprime_dados(arquivo_desejado):\r\n",
    "    print(\"Players atuais:\")\r\n",
    "    print"
   ],
   "outputs": [],
   "metadata": {}
  },
  {
   "cell_type": "code",
   "execution_count": 424,
   "source": [
    "def dados_jogo():\r\n",
    "    #inicializacao\\\\\\\r\n",
    "    base_atual={}\r\n",
    "    menu()\r\n",
    "    le_banco(base_atual)#Leitura do arquivo\r\n",
    "    #///\r\n",
    "    #users_choice=int(input(\"Digite o número correspondente daquilo que voce deseja, aventureiro!  \"))\r\n",
    "    #Impressão dos dados\r\n",
    "    if(users_choice==1):\r\n",
    "        imprime_dados(arquivo_base)\r\n",
    "    #Partição para adição de itens\r\n",
    "    adiciona_itens()\r\n",
    "    #Partição para remoção de itens\r\n",
    "    remove_itens()\r\n",
    "    #Partição para atualização de itens\r\n",
    "    atualiza_itens()"
   ],
   "outputs": [],
   "metadata": {}
  }
 ],
 "metadata": {
  "orig_nbformat": 4,
  "language_info": {
   "name": "python",
   "version": "3.8.11",
   "mimetype": "text/x-python",
   "codemirror_mode": {
    "name": "ipython",
    "version": 3
   },
   "pygments_lexer": "ipython3",
   "nbconvert_exporter": "python",
   "file_extension": ".py"
  },
  "kernelspec": {
   "name": "python3",
   "display_name": "Python 3.8.11 64-bit ('rsd': conda)"
  },
  "interpreter": {
   "hash": "42f74353e3a9b5a4cb43330aab4e888bd8c99887f1f7b7373840781ed1656684"
  }
 },
 "nbformat": 4,
 "nbformat_minor": 2
}