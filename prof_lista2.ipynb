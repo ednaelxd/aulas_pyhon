{
 "cells": [
  {
   "cell_type": "markdown",
   "source": [
    "Tentativa com listas"
   ],
   "metadata": {}
  },
  {
   "cell_type": "markdown",
   "source": [
    "Questão 1:\r\n",
    "Crie um programa que imprima todos os números pares de 0 a 100"
   ],
   "metadata": {}
  },
  {
   "cell_type": "code",
   "execution_count": 4,
   "source": [
    "i=0\r\n",
    "while (i<=100):\r\n",
    "  if i%2==0:\r\n",
    "    print(i)\r\n",
    "  i=i+1"
   ],
   "outputs": [
    {
     "output_type": "stream",
     "name": "stdout",
     "text": [
      "0\n",
      "2\n",
      "4\n",
      "6\n",
      "8\n",
      "10\n",
      "12\n",
      "14\n",
      "16\n",
      "18\n",
      "20\n",
      "22\n",
      "24\n",
      "26\n",
      "28\n",
      "30\n",
      "32\n",
      "34\n",
      "36\n",
      "38\n",
      "40\n",
      "42\n",
      "44\n",
      "46\n",
      "48\n",
      "50\n",
      "52\n",
      "54\n",
      "56\n",
      "58\n",
      "60\n",
      "62\n",
      "64\n",
      "66\n",
      "68\n",
      "70\n",
      "72\n",
      "74\n",
      "76\n",
      "78\n",
      "80\n",
      "82\n",
      "84\n",
      "86\n",
      "88\n",
      "90\n",
      "92\n",
      "94\n",
      "96\n",
      "98\n",
      "100\n"
     ]
    }
   ],
   "metadata": {}
  },
  {
   "cell_type": "markdown",
   "source": [
    "Questão 2:\r\n",
    "Desenvolver um algoritmo que efetue a soma de todos os números ímpares que são múltiplos de três e que se encontram no conjunto dos números de 1 até 500."
   ],
   "metadata": {}
  },
  {
   "cell_type": "code",
   "execution_count": 5,
   "source": [
    "i=1\r\n",
    "impares_somados=0\r\n",
    "while (i<=500):\r\n",
    "  if (i%3==0 and i%2!=0):\r\n",
    "    impares_somados = impares_somados+i\r\n",
    "    #print ('A soma parcial é:',impares_somados)\r\n",
    "  i=i+1\r\n",
    "print(impares_somados)\r\n"
   ],
   "outputs": [
    {
     "output_type": "stream",
     "name": "stdout",
     "text": [
      "20667\n"
     ]
    }
   ],
   "metadata": {}
  },
  {
   "cell_type": "markdown",
   "source": [
    "Questão 3:\r\n",
    "Desenvolver um algoritmo que leia a altura de 15 pessoas. Este programa deverá calcular e mostrar :\r\n",
    "\r\n",
    "a. A menor altura do grupo;\r\n",
    "\r\n",
    "b. A maior altura do grupo;"
   ],
   "metadata": {}
  },
  {
   "cell_type": "code",
   "execution_count": 43,
   "source": [
    "#TENTANDO COM LISTAS\r\n",
    "alturas = list()\r\n",
    "cont = num_maior = num_menor = 0\r\n",
    "while cont<=3:\r\n",
    "    alturas.append(float(input('Digite uma nova altura: ')))\r\n",
    "    if (cont>0 and alturas[cont-1]<alturas[cont]):\r\n",
    "        num_maior = alturas[cont]\r\n",
    "    if (cont>0 and alturas[cont-1]>alturas[cont]):\r\n",
    "        num_menor = alturas[cont]\r\n",
    "    cont+=1\r\n",
    "print('A maior pessoa mede:',num_maior)\r\n",
    "print('A menor pessoa mede:',num_menor)"
   ],
   "outputs": [
    {
     "output_type": "stream",
     "name": "stdout",
     "text": [
      "A maior pessoa mede: 1.9\n",
      "A menor pessoa mede: 1.65\n"
     ]
    }
   ],
   "metadata": {}
  },
  {
   "cell_type": "code",
   "execution_count": 34,
   "source": [
    "alturas = list()\r\n",
    "cont = maior = menor = 0\r\n",
    "print(type(alturas))\r\n",
    "print (maior,menor)\r\n",
    "while cont<3:\r\n",
    "    alturas.append(int(input('blabla')))\r\n",
    "    print(alturas[cont])\r\n",
    "    cont+=1"
   ],
   "outputs": [
    {
     "output_type": "stream",
     "name": "stdout",
     "text": [
      "<class 'list'>\n",
      "0 0\n",
      "12\n",
      "3\n",
      "4\n"
     ]
    }
   ],
   "metadata": {}
  },
  {
   "cell_type": "code",
   "execution_count": null,
   "source": [
    "#TENTANDO SEM USAR LISTAS\r\n",
    "cont = 0\r\n",
    "maior = 0\r\n",
    "menor = 0\r\n",
    "while cont<=3:\r\n",
    "    print ('Digite a altura',cont+1)\r\n",
    "    altura_usuario = float (input())\r\n",
    "    if(cont == 0):\r\n",
    "        menor = altura_usuario\r\n",
    "        maior = altura_usuario\r\n",
    "    if (altura_usuario > maior):\r\n",
    "        maior = altura_usuario\r\n",
    "    if (altura_usuario < menor):\r\n",
    "        menor = altura_usuario\r\n",
    "    cont=cont+1\r\n",
    "print('A maior pessoa mede:',maior)\r\n",
    "print('A menor pessoa mede:',menor)"
   ],
   "outputs": [
    {
     "output_type": "stream",
     "name": "stdout",
     "text": [
      "Digite a altura 1\n",
      "Digite a altura 2\n",
      "Digite a altura 3\n",
      "Digite a altura 4\n",
      "A maior pessoa mede: 1.9\n",
      "A menor pessoa mede: 1.7\n"
     ]
    }
   ],
   "metadata": {}
  },
  {
   "cell_type": "markdown",
   "source": [
    "Questão 4:\r\n",
    "Construa um programa que lê um número inteiro N a partir do teclado e calcula a raiz quinta inteira desse número, se houver. Caso não haja, ele deve informar isso ao usuário. Usando laços"
   ],
   "metadata": {}
  },
  {
   "cell_type": "code",
   "execution_count": null,
   "source": [
    "print (\"Booraaaaaaaaaaaaaaaaaaa!!! Birl\")\r\n",
    "print ('Digite um número para testarmos\\nse esse número possui uma raiz quintupla')\r\n",
    "num = int (input())\r\n",
    "i=0\r\n",
    "n_possui=True\r\n",
    "while i<=num:\r\n",
    "    if i*i*i*i*i==num:\r\n",
    "        print(i,'é raiz quintupla de',num)\r\n",
    "        n_possui=False\r\n",
    "    i=i+1\r\n",
    "if n_possui==True:\r\n",
    "    print (num,'não possui raiz quintupla inteira')"
   ],
   "outputs": [
    {
     "output_type": "stream",
     "name": "stdout",
     "text": [
      "Booraaaaaaaaaaaaaaaaaaa!!! Birl\n",
      "Digite um número para testarmos\n",
      "se esse número possui uma raiz quintupla\n",
      "2 é raiz quintupla de 32\n"
     ]
    }
   ],
   "metadata": {}
  },
  {
   "cell_type": "markdown",
   "source": [
    "Questão 5:\r\n",
    "Escrever um algoritmo que leia uma quantidade desconhecida de números e conte quantos deles estão nos seguintes intervalos: [0-25], [26-50], [51-75] e [76-100]. A entrada de dados deve terminar quando for lido um número negativo."
   ],
   "metadata": {}
  },
  {
   "cell_type": "code",
   "execution_count": 7,
   "source": [
    "print('Digite quantos números você quiser,\\nentão os dividiremos em intervalos')\r\n",
    "print('Caso deseje que o programa pare, digite um número negativo')\r\n",
    "valor = menor_q25 = menor_q50 = menor_q75 = menor_q100 = 0 \r\n",
    "trava=True\r\n",
    "while trava==True:\r\n",
    "    valor = int (input('Insira um valor:'))\r\n",
    "    if valor < 0:\r\n",
    "        trava=False\r\n",
    "    if (valor>0 and valor<=25):\r\n",
    "        menor_q25+=1\r\n",
    "    if (valor>=26 and valor<=50):\r\n",
    "        menor_q50+=1\r\n",
    "    if (valor>=51 and valor<=75):\r\n",
    "        menor_q75+=1\r\n",
    "    if (valor>=76 and valor<=100):\r\n",
    "        menor_q100+=1\r\n",
    "print ('No fim das contas tivemos:\\n')\r\n",
    "print ('',menor_q25,'Valores no intervalo [0,25]\\n',menor_q50,'Valores no intervalo [25,50]\\n',\r\n",
    " menor_q75,'Valores no intervalo [50,75]\\n',menor_q100,'Valores no intervalo [75,100]\\n')        \r\n"
   ],
   "outputs": [
    {
     "output_type": "stream",
     "name": "stdout",
     "text": [
      "Digite quantos números você quiser,\n",
      "então os dividiremos em intervalos\n",
      "Caso deseje que o programa pare, digite um número negativo\n",
      "No fim das contas tivemos:\n",
      "\n",
      " 5 Valores no intervalo [0,25]\n",
      " 0 Valores no intervalo [25,50]\n",
      " 0 Valores no intervalo [50,75]\n",
      " 0 Valores no intervalo [75,100]\n",
      "\n"
     ]
    }
   ],
   "metadata": {}
  },
  {
   "cell_type": "markdown",
   "source": [
    "Questão 6:\r\n",
    "Faça um algoritmo estruturado que leia uma quantidade não determinada de números positivos. Calcule a quantidade de números pares e ímpares, a média de valores pares e a média geral dos números lidos. O número que encerrará a leitura será zero."
   ],
   "metadata": {}
  },
  {
   "cell_type": "code",
   "execution_count": 13,
   "source": [
    "print('Digite quantos números você quiser,\\nentão os dividiremos em pares e ímpares')\r\n",
    "print('Caso deseje que o programa pare, digitar 0(zero)')\r\n",
    "valor = n_pares = n_impares = soma_pares = soma_impares = 0 \r\n",
    "trava=True\r\n",
    "while trava==True:\r\n",
    "    valor = int (input('Insira um valor positivo:'))\r\n",
    "    if valor == 0:\r\n",
    "        trava=False\r\n",
    "    if (valor%2==0 and valor!=0):\r\n",
    "        n_pares+=1\r\n",
    "        soma_pares+=valor\r\n",
    "    elif (valor%2!=0):\r\n",
    "        n_impares+=1\r\n",
    "        soma_impares+=valor\r\n",
    "mean_pares=soma_pares/n_pares\r\n",
    "mean_impares=soma_impares/n_impares\r\n",
    "mean_geral = (soma_pares+soma_impares)/(n_pares+n_impares)\r\n",
    "print ('No fim das contas tivemos:\\n')\r\n",
    "print ('',n_pares,'é o nº de pares\\n',n_impares,'é o nº de impares\\n',\r\n",
    " mean_pares,'é a média dos pares inseridos\\n',mean_impares,'é a média dos pares inseridos\\n',\r\n",
    " mean_geral,'é a média geral dos valores todos')"
   ],
   "outputs": [
    {
     "output_type": "stream",
     "name": "stdout",
     "text": [
      "Digite quantos números você quiser,\n",
      "então os dividiremos em pares e ímpares\n",
      "Caso deseje que o programa pare, digitar 0(zero)\n",
      "No fim das contas tivemos:\n",
      "\n",
      " 2 é o nº de pares\n",
      " 2 é o nº de impares\n",
      " 2.0 é a média dos pares inseridos\n",
      " 1.0 é a média dos pares inseridos\n",
      " 1.5 é a média geral dos valores todos\n"
     ]
    }
   ],
   "metadata": {}
  }
 ],
 "metadata": {
  "language_info": {
   "name": "python",
   "version": "3.9.7",
   "mimetype": "text/x-python",
   "codemirror_mode": {
    "name": "ipython",
    "version": 3
   },
   "pygments_lexer": "ipython3",
   "nbconvert_exporter": "python",
   "file_extension": ".py"
  },
  "kernelspec": {
   "name": "python3",
   "display_name": "Python 3.9.7 64-bit"
  },
  "interpreter": {
   "hash": "0721bd1a4770cf2bdc32816084f1a2b41fcbc3dc44910312d16644dc40941dad"
  }
 },
 "nbformat": 4,
 "nbformat_minor": 5
}