{
 "cells": [
  {
   "cell_type": "markdown",
   "source": [
    "#NUMPY\r\n",
    "\r\n",
    "+A biblioteca numpy é otimizada para trabalhos matemáticos facilitando, por exemplo, a manipulação de matrizes, solução de sistemas de equação etc.\r\n",
    "+O armazenamento dos vetores na biblioteca é feita de forma contígua, ou seja, faz um armazenamento linear na memória do computador.\r\n",
    "+importação\r\n",
    "\r\n",
    "impot numpy as np\r\n",
    "\r\n",
    "+Vetores em numpy são estruturas unidimensionais que armazenam elementos de um MESMO TIPO\r\n",
    "\r\n",
    "v = np.empty (qtd_de_posições,tipo_de_variável) #Pega quatro posições contiguas de memória e asa reserva.\r\n",
    "v = np.ones(5,float) #reserva  5 posições com 1.0\r\n",
    "v = np.ones(5,float)\r\n",
    "v = np.array()\r\n",
    "\r\n",
    "Tipos das variáveis que podem ser armazenadas com o uso de numpy\r\n",
    "bool,int, intc, intp, int8, int 15, int32, int64, uint8, uint16, uint32, uint64, float.., float64\r\n",
    "complex, complex64, complex128"
   ],
   "metadata": {}
  },
  {
   "cell_type": "markdown",
   "source": [
    "+Matrizes são vetores multidimensionais\r\n",
    "\r\n",
    "São inicializados com as mesmas funções que vimos anteriormente, no entanto, damos como parâmetro umma tupla.\r\n",
    "\r\n",
    "mat = np.zeros((3,4),float) -> armazena zeros numa matriz 3x4\r\n",
    "mat = np.array([1,2,3],[3,2,1]) -> cria uma matriz cujas linhas são as listas passadas\r\n",
    "mat.shape = mostra as dimensões da matriz\r\n",
    "np.arange(10).shape = é o range do python\r\n",
    "v.reshape(3,3) -> muda o \"shape\" da matriz, se for possível\r\n",
    "Por exemplo, é possivel transformar um vetor com 9 elementos numa matriz 3x3\r\n",
    "\r\n",
    "test = np.arange(10)\r\n",
    "test.reshape((2,-1))\r\n",
    "array([[0, 1, 2, 3, 4], \r\n",
    "       [5, 6, 7, 8, 9]])\r\n",
    "test.reshape((5,-1)) \r\n",
    "array([[0, 1], \r\n",
    "       [2, 3], \r\n",
    "       [4, 5], \r\n",
    "       [6, 7], \r\n",
    "       [8, 9]])\r\n",
    "\r\n",
    "O -1, insere o número de colunas da matriz automaticamente\r\n",
    "\r\n",
    "Como acessar valores numa matriz?\r\n",
    "matriz[0,1] ou matriz[0][1]"
   ],
   "metadata": {}
  },
  {
   "cell_type": "markdown",
   "source": [
    "#Recortes de matrizes\r\n",
    "\r\n",
    "No R, para pegar todos os valores de uma determinada coluna de uma matriz digitava-se:\r\n",
    "matrix[,2], em python fazemos matriz[:,2]\r\n",
    "matriz[::2,2], pega todos os valores da coluna 2, com passo de 2"
   ],
   "metadata": {}
  },
  {
   "cell_type": "markdown",
   "source": [
    "#Operações com matrizes\r\n",
    "\r\n",
    "x.sum(axis=0), o 0 representa as linhas e o 1 as colunas. Esse função retornará um vetor com a soma dos valores contidos em cada coluna.\r\n",
    "x.min()\r\n",
    "x.max()\r\n",
    "x.argmin() = índice do mínimo (posição do menor valor no vetor)\r\n",
    "x.argmax() = índice do máximo\r\n",
    "np.all = se todos os valores forem TRUE, retorna true\r\n",
    "np.any = Se houver ao menos um TRUE, retorna true\r\n",
    "np.sort(,) = ordena a matrix por linhas(1) ou colunas(0)"
   ],
   "metadata": {}
  },
  {
   "cell_type": "code",
   "execution_count": 13,
   "source": [
    "import numpy as np\r\n",
    "a = np.array([4,12,1])\r\n",
    "a = np.sort(a)\r\n",
    "a"
   ],
   "outputs": [
    {
     "output_type": "execute_result",
     "data": {
      "text/plain": [
       "array([ 1,  4, 12])"
      ]
     },
     "metadata": {},
     "execution_count": 13
    }
   ],
   "metadata": {}
  },
  {
   "cell_type": "code",
   "execution_count": null,
   "source": [
    "\"********************************************************************************\""
   ],
   "outputs": [],
   "metadata": {}
  },
  {
   "cell_type": "markdown",
   "source": [
    "#MATHPLOTLIB\r\n",
    "\r\n",
    "import matplotlib.pyplot\r\n",
    " \r\n",
    "matplotlib.pyplot.plot(x,y) = retorna um g´rafico de linhas, jpa conectando os pontos\r\n",
    "\r\n",
    ".xlabel\r\n",
    ".ylabel\r\n",
    ".title\r\n",
    ".legend\r\n",
    ".show\r\n",
    "\r\n",
    "#Compreensão de lista pdoe ser usada na cosntrução dos gráficos"
   ],
   "metadata": {}
  }
 ],
 "metadata": {
  "orig_nbformat": 4,
  "language_info": {
   "name": "python",
   "version": "3.8.11",
   "mimetype": "text/x-python",
   "codemirror_mode": {
    "name": "ipython",
    "version": 3
   },
   "pygments_lexer": "ipython3",
   "nbconvert_exporter": "python",
   "file_extension": ".py"
  },
  "kernelspec": {
   "name": "python3",
   "display_name": "Python 3.8.11 64-bit ('rsd': conda)"
  },
  "interpreter": {
   "hash": "42f74353e3a9b5a4cb43330aab4e888bd8c99887f1f7b7373840781ed1656684"
  }
 },
 "nbformat": 4,
 "nbformat_minor": 2
}