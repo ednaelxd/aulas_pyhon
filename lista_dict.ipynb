{
 "cells": [
  {
   "cell_type": "markdown",
   "source": [
    "Questão 1:\r\n",
    "Crie uma função que receba como parâmetro um dicionário. Sua função deve imprimir todas as chaves e valores respectivos deste dicionário."
   ],
   "metadata": {}
  },
  {
   "cell_type": "code",
   "execution_count": 11,
   "source": [
    "def abre_dicionario(dic):\r\n",
    "    for [chave,item] in dic.items():\r\n",
    "        print(f\"Chave:{chave} *** item:{item}\")"
   ],
   "outputs": [],
   "metadata": {}
  },
  {
   "cell_type": "code",
   "execution_count": 12,
   "source": [
    "dicionario = {0:\"Joao\",1:\"Zeh\",2:\"Tonho\"}\r\n",
    "abre_dicionario(dicionario)"
   ],
   "outputs": [
    {
     "output_type": "stream",
     "name": "stdout",
     "text": [
      "Chave:0 *** item:Joao\n",
      "Chave:1 *** item:Zeh\n",
      "Chave:2 *** item:Tonho\n"
     ]
    }
   ],
   "metadata": {}
  },
  {
   "cell_type": "markdown",
   "source": [
    "Questão 2:\r\n",
    "Crie uma função sem parâmetros. Esta função deve perguntar ao usuário quantos clientes vão ser cadastrados. Deverá ser pedido o nome do cliente e o CNPJ da empresa. Em seguida, sua função deve cadastrá-los em um dicionário, considerando o CNPJ como chave. Retorne o dicionário criado."
   ],
   "metadata": {}
  },
  {
   "cell_type": "code",
   "execution_count": null,
   "source": [],
   "outputs": [],
   "metadata": {}
  },
  {
   "cell_type": "markdown",
   "source": [
    "Questão 3:\r\n",
    "Um dicionário armazena o CPF de clientes como chave, e para cada cliente inserido, armazena uma lista com as datas que houve compra daquele cliente na empresa.\r\n",
    "\r\n",
    "Seu programa deve ter 3 opções:\r\n",
    "\r\n",
    "1- Inserir nova data de compra para um dado cliente (solicitar como entrada essas duas informações ao usuário);\r\n",
    "\r\n",
    "2- Remover alguma data de compra para um dado cliente (solicitar como entrada essas duas informações ao usuário);\r\n",
    "\r\n",
    "3- Imprimir todas as datas de compras para um dado cliente (solicitar como entrada essa informação ao usuário);"
   ],
   "metadata": {}
  }
 ],
 "metadata": {
  "orig_nbformat": 4,
  "language_info": {
   "name": "python",
   "version": "3.8.11",
   "mimetype": "text/x-python",
   "codemirror_mode": {
    "name": "ipython",
    "version": 3
   },
   "pygments_lexer": "ipython3",
   "nbconvert_exporter": "python",
   "file_extension": ".py"
  },
  "kernelspec": {
   "name": "python3",
   "display_name": "Python 3.8.11 64-bit ('rsd': conda)"
  },
  "interpreter": {
   "hash": "42f74353e3a9b5a4cb43330aab4e888bd8c99887f1f7b7373840781ed1656684"
  }
 },
 "nbformat": 4,
 "nbformat_minor": 2
}