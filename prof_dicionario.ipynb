{
 "cells": [
  {
   "cell_type": "markdown",
   "source": [
    "Dicionário\r\n",
    "\r\n",
    "Python permite armazenar informação que pode ser recuperada de forma mais rápida\r\n",
    "\r\n",
    "dicionario={}, cria um dicionario vazio\r\n",
    "\r\n",
    "dic[234]=[\"Joao\"]\r\n",
    "dic[312]=[\"Pedro\"]\r\n",
    "#Python faz a ligação entre a chave passada e o valor associado\r\n",
    "#As chaves podem inclusive possuírem valores não numéricos\r\n",
    "\r\n",
    "outra forma de formar um dicionário\r\n",
    "dic={chave1:valor1,chave2:valor2,...,chave_n:chave_n}\r\n",
    "As chaves passadas só podem ser de objetos imutáveis, pela limitação da função rash\r\n",
    "\r\n",
    "Posso criar os dicionários juntos em 2 sentidos, pra facilitar buscas\r\n",
    "\r\n",
    "dicionario.keys() = [objeto do tipo visão/atribuição dinâmica] retorna uma lista com todas as chaves\r\n",
    "dicionario.values() = retorna uma lista onde cada elemento são os valores\r\n",
    "dicionario.itens() = retorna uam lista de tuplas, onda os elementos são os pares chave-valor)\r\n",
    "dicionario.pop(chave) = exclui o elemento que tem como chave a info passada como argumento\r\n",
    "\r\n",
    "Objetos do tipo de visão estão SEMPRE OLHANDO PARA O DICIONÁRIO. Sendo sempre atualizadas"
   ],
   "metadata": {}
  }
 ],
 "metadata": {
  "orig_nbformat": 4,
  "language_info": {
   "name": "python"
  }
 },
 "nbformat": 4,
 "nbformat_minor": 2
}