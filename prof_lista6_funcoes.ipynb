{
 "cells": [
  {
   "cell_type": "markdown",
   "source": [
    "Questão 1:\r\n",
    "Faça uma função que imprima o seguinte cabecalho:\r\n",
    "\r\n",
    "***********************\r\n",
    "\r\n",
    "Residência de Visão Computacional e Eng e Ciência de Dados\r\n",
    "\r\n",
    "***********************"
   ],
   "metadata": {}
  },
  {
   "cell_type": "code",
   "execution_count": 4,
   "source": [
    "def imprime_cabecalho():\r\n",
    "    return print(\"***********************\\nResidência de Visão Computacional e Eng e Ciência de Dados\\n***********************\")\r\n",
    "imprime_cabecalho()"
   ],
   "outputs": [
    {
     "output_type": "stream",
     "name": "stdout",
     "text": [
      "***********************\n",
      "Residência de Visão Computacional e Eng e Ciência de Dados\n",
      "***********************\n"
     ]
    }
   ],
   "metadata": {}
  },
  {
   "cell_type": "markdown",
   "source": [
    "Questão 2:\r\n",
    "Escreva uma função desenha_retangulo_solido que exibe um retângulo sólido composto inteiramente do mesmo caractere. A função deverá ser capaz de desenhar retângulos de tamanho parametrizável, de modo que os parâmetros deverão incluir quantidade de linhas, quantidade de colunas e caractere desejado. Por exemplo, se a quantidade de linhas for 5, quantidade de colunas for 20 e o caractere for ’M’, a função deverá exibir:\r\n",
    "\r\n",
    "MMMMMMMMMMMMMMMMMMMM\r\n",
    "\r\n",
    "MMMMMMMMMMMMMMMMMMMM\r\n",
    "\r\n",
    "MMMMMMMMMMMMMMMMMMMM\r\n",
    "\r\n",
    "MMMMMMMMMMMMMMMMMMMM\r\n",
    "\r\n",
    "MMMMMMMMMMMMMMMMMMMM"
   ],
   "metadata": {}
  },
  {
   "cell_type": "code",
   "execution_count": 6,
   "source": [
    "def imprime_ret(letra,n_lin,n_col):\r\n",
    "    i=j=0\r\n",
    "    poligono=[]#de uma abstração errada q tive :]\r\n",
    "    vetor=letra\r\n",
    "    while i<n_lin:\r\n",
    "        while j<n_col:\r\n",
    "            vetor+=letra\r\n",
    "            j+=1\r\n",
    "        print(vetor)\r\n",
    "        i+=1\r\n",
    "imprime_ret(\"+\",5,20)"
   ],
   "outputs": [
    {
     "output_type": "stream",
     "name": "stdout",
     "text": [
      "+++++++++++++++++++++\n",
      "+++++++++++++++++++++\n",
      "+++++++++++++++++++++\n",
      "+++++++++++++++++++++\n",
      "+++++++++++++++++++++\n"
     ]
    }
   ],
   "metadata": {}
  },
  {
   "cell_type": "markdown",
   "source": [
    "Questão 3:\r\n",
    "Fazer um programa que receba um número que corresponda a um mês. A função deve retornar a string do nome do mês correspondente. Caso o usuário digite um número fora do intervalo permitido, deverá retornar uma mensagem de erro \"MÊS INVALIDO\"."
   ],
   "metadata": {}
  },
  {
   "cell_type": "code",
   "execution_count": 13,
   "source": [
    "def diz_mes(numero):\r\n",
    "    meses=[\"Janeiro\",\"Fevereiro\",\"Março\",\"Abril\",\"Maio\",\"Junho\",\"Julho\",\r\n",
    "            \"Agosto\",\"Setembro\",\"Outubro\",\"Novembro\",\"Dezembro\"]\r\n",
    "    if numero<=12 and numero>=1:\r\n",
    "        return (meses[numero-1])\r\n",
    "    else:\r\n",
    "        return SyntaxError"
   ],
   "outputs": [],
   "metadata": {}
  },
  {
   "cell_type": "code",
   "execution_count": 15,
   "source": [
    "diz_mes(6)\r\n"
   ],
   "outputs": [
    {
     "output_type": "execute_result",
     "data": {
      "text/plain": [
       "'Junho'"
      ]
     },
     "metadata": {},
     "execution_count": 15
    }
   ],
   "metadata": {}
  },
  {
   "cell_type": "markdown",
   "source": [
    "Questão 4:\r\n",
    "Fazer uma função que calcula e retorna o fatorial de um número inteiro qualquer."
   ],
   "metadata": {}
  },
  {
   "cell_type": "code",
   "execution_count": 16,
   "source": [
    "def calcula_fatorial(x):\r\n",
    "    if x==0:\r\n",
    "        return 1\r\n",
    "    if x>0:\r\n",
    "        return (x*calcula_fatorial(x-1))\r\n"
   ],
   "outputs": [],
   "metadata": {}
  },
  {
   "cell_type": "code",
   "execution_count": 25,
   "source": [
    "calcula_fatorial(10)\r\n",
    "ord(\"a\")"
   ],
   "outputs": [
    {
     "output_type": "execute_result",
     "data": {
      "text/plain": [
       "97"
      ]
     },
     "metadata": {},
     "execution_count": 25
    }
   ],
   "metadata": {}
  },
  {
   "cell_type": "markdown",
   "source": [
    "Questão 5:\r\n",
    "Fazer uma função que receba um caractere como parâmetro e retorne 1 caso o caractere seja uma consoante, ou 0 caso contrário."
   ],
   "metadata": {}
  },
  {
   "cell_type": "code",
   "execution_count": 33,
   "source": [
    "def descobre_consoante(a):\r\n",
    "    vogais=\"aeiouAEIOU\"\r\n",
    "    if (ord(a)>=ord(\"a\") and ord(a)<=ord(\"z\")) or (ord(a)>=ord(\"A\") and ord(a)<=ord(\"Z\")):\r\n",
    "        if a not in vogais:\r\n",
    "            return 1\r\n",
    "        else:\r\n",
    "            return 0\r\n",
    "    else:\r\n",
    "        print (\"O caracter não é letra\")"
   ],
   "outputs": [],
   "metadata": {}
  },
  {
   "cell_type": "code",
   "execution_count": 4,
   "source": [
    "#descobre_consoante(\"*\")\r\n",
    "chr(62)"
   ],
   "outputs": [
    {
     "output_type": "execute_result",
     "data": {
      "text/plain": [
       "'>'"
      ]
     },
     "metadata": {},
     "execution_count": 4
    }
   ],
   "metadata": {}
  },
  {
   "cell_type": "markdown",
   "source": [
    "Questão 6:\r\n",
    "Construa uma função chamada to_lower_case que receba uma string. A função deverá retornar uma outra string cujo conteúdo seja o mesmo da string original, mas com todas as letras minúsculas. Considere que pode haver caracteres ASCII que não são letras, como pontos e vírgula. Considere que não será passado caracteres com acentuação ou marcação especial (acento, trema, cedilha)."
   ],
   "metadata": {}
  },
  {
   "cell_type": "code",
   "execution_count": 49,
   "source": [
    "def lower_to_case(string):\r\n",
    "    for letras in string:\r\n",
    "        if (ord(letras)>=ord(\"A\") and ord(letras)<=ord(\"Z\")):\r\n",
    "            =chr(ord(letras)+32)\r\n",
    "            \r\n"
   ],
   "outputs": [
    {
     "output_type": "error",
     "ename": "SyntaxError",
     "evalue": "invalid syntax (Temp/ipykernel_4880/4220504344.py, line 3)",
     "traceback": [
      "\u001b[1;36m  File \u001b[1;32m\"C:\\Users\\ednae\\AppData\\Local\\Temp/ipykernel_4880/4220504344.py\"\u001b[1;36m, line \u001b[1;32m3\u001b[0m\n\u001b[1;33m    if (ord(string[letras])>=ord(\"A\") and ord(string[letras])<=ord(\"Z\"):\u001b[0m\n\u001b[1;37m                                                                       ^\u001b[0m\n\u001b[1;31mSyntaxError\u001b[0m\u001b[1;31m:\u001b[0m invalid syntax\n"
     ]
    }
   ],
   "metadata": {}
  },
  {
   "cell_type": "code",
   "execution_count": 51,
   "source": [
    "string_1=\"lalalala\"\r\n",
    "string_1[2]=\"B\"\r\n",
    "string_1"
   ],
   "outputs": [
    {
     "output_type": "error",
     "ename": "TypeError",
     "evalue": "'str' object does not support item assignment",
     "traceback": [
      "\u001b[1;31m---------------------------------------------------------------------------\u001b[0m",
      "\u001b[1;31mTypeError\u001b[0m                                 Traceback (most recent call last)",
      "\u001b[1;32m~\\AppData\\Local\\Temp/ipykernel_4880/3770309132.py\u001b[0m in \u001b[0;36m<module>\u001b[1;34m\u001b[0m\n\u001b[0;32m      1\u001b[0m \u001b[0mstring_1\u001b[0m\u001b[1;33m=\u001b[0m\u001b[1;34m\"lalalala\"\u001b[0m\u001b[1;33m\u001b[0m\u001b[1;33m\u001b[0m\u001b[0m\n\u001b[1;32m----> 2\u001b[1;33m \u001b[0mstring_1\u001b[0m\u001b[1;33m[\u001b[0m\u001b[1;36m2\u001b[0m\u001b[1;33m]\u001b[0m\u001b[1;33m=\u001b[0m\u001b[1;34m\"B\"\u001b[0m\u001b[1;33m\u001b[0m\u001b[1;33m\u001b[0m\u001b[0m\n\u001b[0m\u001b[0;32m      3\u001b[0m \u001b[0mstring_1\u001b[0m\u001b[1;33m\u001b[0m\u001b[1;33m\u001b[0m\u001b[0m\n",
      "\u001b[1;31mTypeError\u001b[0m: 'str' object does not support item assignment"
     ]
    }
   ],
   "metadata": {}
  },
  {
   "cell_type": "code",
   "execution_count": 46,
   "source": [
    "string=\"jafiojerof\"\r\n",
    "for letras in string:\r\n",
    "    print(letras)"
   ],
   "outputs": [
    {
     "output_type": "stream",
     "name": "stdout",
     "text": [
      "j\n",
      "a\n",
      "f\n",
      "i\n",
      "o\n",
      "j\n",
      "e\n",
      "r\n",
      "o\n",
      "f\n"
     ]
    }
   ],
   "metadata": {}
  },
  {
   "cell_type": "code",
   "execution_count": 44,
   "source": [
    "lower_to_case(\"A\")"
   ],
   "outputs": [
    {
     "output_type": "execute_result",
     "data": {
      "text/plain": [
       "'A'"
      ]
     },
     "metadata": {},
     "execution_count": 44
    }
   ],
   "metadata": {}
  },
  {
   "cell_type": "markdown",
   "source": [
    "Questão 7:\r\n",
    "Escreva uma função que receba 3 notas de um aluno e uma letra. Se a letra for \"A\" a função retorna a média aritmética das notas do aluno, se for \"P\", a sua média ponderada (pesos: 5, 3 e 2) e se for \"H\", a sua média harmônica."
   ],
   "metadata": {}
  },
  {
   "cell_type": "markdown",
   "source": [
    "Questão 8:\r\n",
    "Faça uma função que recebe uma lista de strings (por exemplo: [\"Fernando\", \"José\", \"Maria\", \"Pedro\"]) que representa uma lista de convidados, assim como recebe como entrada um nome como uma string. A função deve retornar True se essa string está na lista de convidados, ou False caso contrário."
   ],
   "metadata": {}
  },
  {
   "cell_type": "markdown",
   "source": [
    "Questão 9:\r\n",
    "Faça uma função que recebe uma lista de listas com produtos e valores (por exemplo: [ [\"Feijão\", 9.95], [\"Macarrão\", 4.32], [\"Arroz\", 7.43]]), e uma lista de compras (por exemplo: [\"Feijão\", \"Arroz\"]).\r\n",
    "\r\n",
    "Sua função deve retornar o valor a ser pago por essa lista de compras."
   ],
   "metadata": {}
  },
  {
   "cell_type": "markdown",
   "source": [
    "Questão 10:\r\n",
    "Faça um programa que use a função valorPagamento para determinar o valor a ser pago por uma prestação de uma conta. O programa deverá solicitar ao usuário o valor da prestação e o número de dias em atraso e passar estes valores para a função valorPagamento, que calculará o valor a ser pago e devolverá este valor ao programa que a chamou. O programa deverá então exibir o valor a ser pago na tela. Após a execução o programa deverá voltar a pedir outro valor de prestação e assim continuar até que seja informado um valor igual a zero para a prestação. Neste momento o programa deverá ser encerrado, exibindo o relatório do dia, que conterá a quantidade e o valor total de prestações pagas no dia. O cálculo do valor a ser pago é feito da seguinte forma. Para pagamentos sem atraso, cobrar o valor da prestação. Quando houver atraso, cobrar 3% de multa, mais 0,1% de juros por dia de atraso."
   ],
   "metadata": {}
  }
 ],
 "metadata": {
  "orig_nbformat": 4,
  "language_info": {
   "name": "python",
   "version": "3.9.7",
   "mimetype": "text/x-python",
   "codemirror_mode": {
    "name": "ipython",
    "version": 3
   },
   "pygments_lexer": "ipython3",
   "nbconvert_exporter": "python",
   "file_extension": ".py"
  },
  "kernelspec": {
   "name": "python3",
   "display_name": "Python 3.9.7 64-bit"
  },
  "interpreter": {
   "hash": "0721bd1a4770cf2bdc32816084f1a2b41fcbc3dc44910312d16644dc40941dad"
  }
 },
 "nbformat": 4,
 "nbformat_minor": 2
}