{
 "cells": [
  {
   "cell_type": "markdown",
   "source": [
    "Os mesmo operadores usados nas comparações para valores numéricos, podem ser usado na \r\n",
    "comparação de STRINGS, no python. Essas comparações se dão pela tabela ASCII    \r\n",
    "\r\n",
    "Na tabela ASCII, as letras maiúsculas vem antes na tabela. Ou seja, em quaisquer comparações\r\n",
    "entre palavras, aquelas que possuírem letras maíusculas serão classificadas primeiro\r\n",
    "em ordem alfabética."
   ],
   "metadata": {}
  },
  {
   "cell_type": "code",
   "execution_count": 4,
   "source": [
    "a = \"Ednael\"\r\n",
    "b = \"Abraão\"\r\n",
    "c = \"abner\"\r\n",
    "\r\n",
    "a<b"
   ],
   "outputs": [
    {
     "output_type": "execute_result",
     "data": {
      "text/plain": [
       "False"
      ]
     },
     "metadata": {},
     "execution_count": 4
    }
   ],
   "metadata": {}
  },
  {
   "cell_type": "markdown",
   "source": [
    "chr (): Recebe um inteiro, e retorna o valor ASCII\r\n",
    "ord (): Só recebe um caracter e retorna o valor do caracter na tabela\r\n",
    "Para um maiúsculo virar minusculo, soma-se 32 números ao valor da tabela do caracter\r\n",
    "Para o processo inverso, subtrai-se 32\r\n",
    "\r\n",
    "<substring> in <string>: Verifica se a substring dada, está contida no string"
   ],
   "metadata": {}
  },
  {
   "cell_type": "code",
   "execution_count": 6,
   "source": [
    "for i in range(0,256):\r\n",
    "    print (i,chr(i))\r\n",
    "    "
   ],
   "outputs": [
    {
     "output_type": "execute_result",
     "data": {
      "text/plain": [
       "'for i in range(0,256):\\n    print (i,chr(i))'"
      ]
     },
     "metadata": {},
     "execution_count": 6
    }
   ],
   "metadata": {}
  },
  {
   "cell_type": "markdown",
   "source": [
    "FUNÇÕES\r\n",
    "\r\n",
    "O uso de funções, em programação, facilita a elaboração de códigos como um todo\r\n",
    "+Facilitam a legibilidade dos códigos\r\n",
    "+Tornam a manutenção do código mais rápida\r\n",
    "+Possibilita o reaproveitamento de trechos de código\r\n",
    "+reduz substancialmente o tamanho dos códigos"
   ],
   "metadata": {}
  },
  {
   "cell_type": "markdown",
   "source": [
    "Objetos em python, em sí, não possuem tipo\r\n",
    "O que acontece é que o objeto para o qual a variável aponta, é que possui tipo\r\n",
    "\r\n",
    "#Tipos imutáveis:\r\n",
    "\r\n",
    "-int, float, string e tuple\r\n",
    "\r\n",
    "#Objetos de tipo mutável:\r\n",
    "\r\n",
    "-list, dicionário\r\n",
    "\r\n",
    "Caso 2, ou mais, variáveis aponte para um mesmo objeto, se alguma delas for modificada, todas as demais, que apontam para o mesmo objeto, serão modificadas\r\n",
    "Para que isso n aconteça, com listas, posso usar a função .copy, impedindo que a lista original seja alterada"
   ],
   "metadata": {}
  },
  {
   "cell_type": "markdown",
   "source": [
    "Escopo da função\r\n",
    "\r\n",
    "-O escopo da função compreende o local da função onde as variáveis existem\r\n",
    "-Variáveis definidas dentro do programa, sem um return, desaparecem\r\n",
    "-A função 'return', recupera os valores dessas variáveis criadas nas funções"
   ],
   "metadata": {}
  }
 ],
 "metadata": {
  "orig_nbformat": 4,
  "language_info": {
   "name": "python",
   "version": "3.9.7",
   "mimetype": "text/x-python",
   "codemirror_mode": {
    "name": "ipython",
    "version": 3
   },
   "pygments_lexer": "ipython3",
   "nbconvert_exporter": "python",
   "file_extension": ".py"
  },
  "kernelspec": {
   "name": "python3",
   "display_name": "Python 3.9.7 64-bit"
  },
  "interpreter": {
   "hash": "0721bd1a4770cf2bdc32816084f1a2b41fcbc3dc44910312d16644dc40941dad"
  }
 },
 "nbformat": 4,
 "nbformat_minor": 2
}