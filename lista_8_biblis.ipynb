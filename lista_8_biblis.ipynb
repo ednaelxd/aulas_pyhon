{
 "cells": [
  {
   "cell_type": "markdown",
   "source": [
    "Questão 1:\r\n",
    "Construa um programa que preenche um vetor de inteiros de 100 números, colocando 0 nas posições pares e 1 nas ímpares."
   ],
   "metadata": {}
  },
  {
   "cell_type": "code",
   "execution_count": 12,
   "source": [
    "import numpy as np\r\n",
    "def preenche100(vetorx):\r\n",
    "    vetorx[0:100:2]=0\r\n",
    "    vetorx[1:100:2]=1\r\n",
    "    return(vetorx)\r\n",
    "\r\n",
    "xx=np.arange(1,101)\r\n",
    "preenche100(xx)"
   ],
   "outputs": [
    {
     "output_type": "execute_result",
     "data": {
      "text/plain": [
       "array([0, 1, 0, 1, 0, 1, 0, 1, 0, 1, 0, 1, 0, 1, 0, 1, 0, 1, 0, 1, 0, 1,\n",
       "       0, 1, 0, 1, 0, 1, 0, 1, 0, 1, 0, 1, 0, 1, 0, 1, 0, 1, 0, 1, 0, 1,\n",
       "       0, 1, 0, 1, 0, 1, 0, 1, 0, 1, 0, 1, 0, 1, 0, 1, 0, 1, 0, 1, 0, 1,\n",
       "       0, 1, 0, 1, 0, 1, 0, 1, 0, 1, 0, 1, 0, 1, 0, 1, 0, 1, 0, 1, 0, 1,\n",
       "       0, 1, 0, 1, 0, 1, 0, 1, 0, 1, 0, 1])"
      ]
     },
     "metadata": {},
     "execution_count": 12
    }
   ],
   "metadata": {}
  },
  {
   "cell_type": "markdown",
   "source": [
    "Questão 2:\r\n",
    "Construa um programa que lê, soma e imprime o resultado da soma de um vetor de inteiros de 10 posições"
   ],
   "metadata": {}
  },
  {
   "cell_type": "code",
   "execution_count": null,
   "source": [
    "def soma_itens"
   ],
   "outputs": [],
   "metadata": {}
  },
  {
   "cell_type": "markdown",
   "source": [
    "Questão 3:\r\n",
    "Construa um programa que multiplique os valores de um vetor de reais de 20 posições pelos valores de um outro vetor de reais de 20 posições. O primeiro vetor deve ser inicializado com valores crescentes a partir de 1 e o segundo vetor com valores decrescentes a partir de 20. Os resultados das multiplicações devem ser armazenados num terceiro vetor."
   ],
   "metadata": {}
  },
  {
   "cell_type": "markdown",
   "source": [
    "Questão 4:\r\n",
    "Leia um vetor de 16 posições e troque os 8 primeiros valores pelos 8 últimos e vice-versa. Escreva ao final o vetor obtido"
   ],
   "metadata": {}
  },
  {
   "cell_type": "markdown",
   "source": [
    "Questão 5\r\n",
    "Refaça as questões anteriores criando uma função para cada uma delas."
   ],
   "metadata": {}
  },
  {
   "cell_type": "markdown",
   "source": [
    "Questão 6:\r\n",
    "Construa um algoritmo que efetue e apresente o resultado da soma entre duas matrizes 3 x 5. Inicialize a matriz com valores quaisquer e imprima o resultado na tela."
   ],
   "metadata": {}
  },
  {
   "cell_type": "markdown",
   "source": [
    "Questão 7:\r\n",
    "Faça um programa que multiplica uma matriz 3 x 3 de inteiros por um escalar k e imprima o resultado na tela. O usuário deve fornecer os valores da matriz e de k."
   ],
   "metadata": {}
  },
  {
   "cell_type": "markdown",
   "source": [
    "Questão 8:\r\n",
    "Leia uma matriz 20 x 20. Leia também um valor X. O programa deverá fazer uma busca desse valor na matriz e, ao final escrever a localização (linha e coluna) ou uma mensagem de “não encontrado”."
   ],
   "metadata": {}
  },
  {
   "cell_type": "markdown",
   "source": [
    "Questão 9:\r\n",
    "Dada uma matriz 5x5, elabore um algoritmo que imprima:\r\n",
    "\r\n",
    "A diagonal principal\r\n",
    "\r\n",
    "A diagonal secundária\r\n",
    "\r\n",
    "A soma da linha 4\r\n",
    "\r\n",
    "A soma da coluna 2\r\n",
    "\r\n",
    "Tudo, exceto a diagonal principal"
   ],
   "metadata": {}
  },
  {
   "cell_type": "markdown",
   "source": [
    "Questão 10:\r\n",
    "Faça um programa para multiplicar duas matrizes com tamanho até 10x10, armazenando o resultado em uma terceira matriz.\r\n",
    "\r\n",
    "O programa deve solicitar ao usuário as duas dimensões das duas matrizes;\r\n",
    "\r\n",
    "O programa deve verificar se as matrizes podem ser multiplicadas e apresentar uma mensagem de erro, caso não seja possível."
   ],
   "metadata": {}
  },
  {
   "cell_type": "markdown",
   "source": [
    "Questão 11:\r\n",
    "Refaça o programa anterior transformando apenas o código que faz a multiplicação das matrizes em uma função.\r\n",
    "\r\n",
    "A função recebe como parâmetro as três matrizes e as dimensões das duas primeiras matrizes. O resultado da multiplicação das duas primeiras matrizes deve ser armazenado na terceira matriz.;\r\n",
    "\r\n",
    "A função deve retornar falso se não for possível multiplicar as matrizes, e verdadeiro caso contrário.\r\n",
    "\r\n",
    "A função não deve ler as matrizes, imprimir o resultado, nem a mensagem de erro. Isto deve ser feito na função principal."
   ],
   "metadata": {}
  }
 ],
 "metadata": {
  "orig_nbformat": 4,
  "language_info": {
   "name": "python",
   "version": "3.8.11",
   "mimetype": "text/x-python",
   "codemirror_mode": {
    "name": "ipython",
    "version": 3
   },
   "pygments_lexer": "ipython3",
   "nbconvert_exporter": "python",
   "file_extension": ".py"
  },
  "kernelspec": {
   "name": "python3",
   "display_name": "Python 3.8.11 64-bit ('rsd': conda)"
  },
  "interpreter": {
   "hash": "42f74353e3a9b5a4cb43330aab4e888bd8c99887f1f7b7373840781ed1656684"
  }
 },
 "nbformat": 4,
 "nbformat_minor": 2
}