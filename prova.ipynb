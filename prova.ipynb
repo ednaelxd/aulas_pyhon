{
 "cells": [
  {
   "cell_type": "code",
   "execution_count": 43,
   "source": [
    "#Questão 1\r\n",
    "\r\n",
    "cadastro_pessoas=[]\r\n",
    "contador=conta_mulheres=mais_velho=rendas_todas=0\r\n",
    "parada_geral=True\r\n",
    "nome=str()\r\n",
    "idade=int()\r\n",
    "renda=float()\r\n",
    "parada_sexo=False\r\n",
    "while parada_geral:\r\n",
    "    #Início do código - SEXOS\r\n",
    "    while not parada_sexo:\r\n",
    "        sexo=input(f'Digite o SEXO do {contador+1}º cidadão: ')\r\n",
    "        if (sexo==\"M\" or sexo==\"F\"):\r\n",
    "            parada_sexo=True\r\n",
    "        if (sexo==\"F\"):\r\n",
    "            conta_mulheres+=1\r\n",
    "    #Fim - SEXOS\r\n",
    "    #######################################\r\n",
    "    #Início do código - IDADES E RENDA\r\n",
    "    \r\n",
    "    idade=int(input(f'Digite a IDADE do {contador+1}º cidadão: '))\r\n",
    "\r\n",
    "    if(idade<0):\r\n",
    "        parada_geral=False\r\n",
    "    if(mais_velho<idade):\r\n",
    "        mais_velho=idade\r\n",
    "    elif(idade>0): # Só vai ser inserida a renda, caso não haja pedido de parada (numero negativo)\r\n",
    "        renda=float(input(f'Digite a RENDA do {contador+1}º cidadão: '))\r\n",
    "        rendas_todas+=renda\r\n",
    "        cadastro_pessoas.append([sexo,idade,renda])\r\n",
    "        contador+=1\r\n",
    "        parada_sexo=False\r\n",
    "    #Fim - IDADES E RENDA\r\n",
    "\r\n",
    "renda_media=rendas_todas/contador\r\n",
    "proporcao_mulheres=(conta_mulheres/contador)*100\r\n",
    "print(\"O total de pessoas cadastradas foi de\",contador)\r\n",
    "print(f\"A proporção de mulheres é de {proporcao_mulheres}%\")\r\n",
    "print(\"A pessoa com maior idade possui\",mais_velho,\"anos\")  \r\n",
    "print(f\"A média das rendas é de ${renda_media}\")\r\n"
   ],
   "outputs": [
    {
     "output_type": "stream",
     "name": "stdout",
     "text": [
      "O total de pessoas cadastradas foi de 2\n",
      "A proporção de mulheres é de 50.0%\n",
      "A pessoa com maior idade possui 30 anos\n",
      "A média das rendas é de $2500.0\n"
     ]
    }
   ],
   "metadata": {}
  },
  {
   "cell_type": "code",
   "execution_count": 85,
   "source": [
    "#Questão 2\r\n",
    "cont_p=0\r\n",
    "coeficientes=[]\r\n",
    "x=calculo=float()\r\n",
    "n_para=True\r\n",
    "\r\n",
    "while n_para:\r\n",
    "    grau_polinomio=int(input('Digite o grau do polinômio: '))\r\n",
    "    while cont_p <= (grau_polinomio):\r\n",
    "        coeficientes.append(float(input(f'Digite o {cont_p}-esimo coeficiente: ')))\r\n",
    "        cont_p += 1\r\n",
    "    x=float(input('Digite um valor x para ser testado: '))\r\n",
    "    for i in range(0,grau_polinomio+1):\r\n",
    "        calculo+=coeficientes[i]*(x**(i))\r\n",
    "    print(\"O valor da função é:\",calculo)\r\n",
    "    cont_p=0\r\n",
    "    if (calculo==0):\r\n",
    "        n_para=False\r\n",
    "    calculo=0\r\n",
    "    "
   ],
   "outputs": [
    {
     "output_type": "stream",
     "name": "stdout",
     "text": [
      "O valor da função é: 0.0\n"
     ]
    }
   ],
   "metadata": {}
  },
  {
   "cell_type": "code",
   "execution_count": 82,
   "source": [
    "coeficientes[0]\r\n",
    "x"
   ],
   "outputs": [
    {
     "output_type": "execute_result",
     "data": {
      "text/plain": [
       "1.0"
      ]
     },
     "metadata": {},
     "execution_count": 82
    }
   ],
   "metadata": {}
  }
 ],
 "metadata": {
  "orig_nbformat": 4,
  "language_info": {
   "name": "python",
   "version": "3.9.7",
   "mimetype": "text/x-python",
   "codemirror_mode": {
    "name": "ipython",
    "version": 3
   },
   "pygments_lexer": "ipython3",
   "nbconvert_exporter": "python",
   "file_extension": ".py"
  },
  "kernelspec": {
   "name": "python3",
   "display_name": "Python 3.9.7 64-bit"
  },
  "interpreter": {
   "hash": "0721bd1a4770cf2bdc32816084f1a2b41fcbc3dc44910312d16644dc40941dad"
  }
 },
 "nbformat": 4,
 "nbformat_minor": 2
}